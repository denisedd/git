{
 "cells": [
  {
   "cell_type": "markdown",
   "metadata": {},
   "source": [
    "#### Getting background information\n",
    "Before diving into analyzing the data, it's useful to research some background information. In this case, we know a few facts that will be useful:\n",
    "\n",
    "* New York City is divided into 5 boroughs, which are essentially distinct regions.\n",
    "* Schools in New York City are divided into several school district, each of which can contains dozens of schools.\n",
    "* Not all the schools in all of the datasets are high schools, so we'll need to do some data cleaning.\n",
    "* Each school in New York City has a unique code called a DBN, or District Borough Number.\n",
    "* By aggregating data by district, we can use the district mapping data to plot district-by-district differences."
   ]
  },
  {
   "cell_type": "code",
   "execution_count": 1,
   "metadata": {},
   "outputs": [
    {
     "name": "stdout",
     "output_type": "stream",
     "text": [
      "\n",
      "math_test_results\n",
      "\n",
      "      DBN Grade  Year      Category  Number Tested Mean Scale Score Level 1 #  \\\n",
      "0  01M015     3  2006  All Students             39              667         2   \n",
      "1  01M015     3  2007  All Students             31              672         2   \n",
      "2  01M015     3  2008  All Students             37              668         0   \n",
      "3  01M015     3  2009  All Students             33              668         0   \n",
      "4  01M015     3  2010  All Students             26              677         6   \n",
      "\n",
      "  Level 1 % Level 2 # Level 2 % Level 3 # Level 3 % Level 4 # Level 4 %  \\\n",
      "0      5.1%        11     28.2%        20     51.3%         6     15.4%   \n",
      "1      6.5%         3      9.7%        22       71%         4     12.9%   \n",
      "2        0%         6     16.2%        29     78.4%         2      5.4%   \n",
      "3        0%         4     12.1%        28     84.8%         1        3%   \n",
      "4     23.1%        12     46.2%         6     23.1%         2      7.7%   \n",
      "\n",
      "  Level 3+4 # Level 3+4 %  \n",
      "0          26       66.7%  \n",
      "1          26       83.9%  \n",
      "2          31       83.8%  \n",
      "3          29       87.9%  \n",
      "4           8       30.8%  \n",
      "\n",
      "ap_2010\n",
      "\n",
      "      DBN                             SchoolName AP Test Takers   \\\n",
      "0  01M448           UNIVERSITY NEIGHBORHOOD H.S.              39   \n",
      "1  01M450                 EAST SIDE COMMUNITY HS              19   \n",
      "2  01M515                    LOWER EASTSIDE PREP              24   \n",
      "3  01M539         NEW EXPLORATIONS SCI,TECH,MATH             255   \n",
      "4  02M296  High School of Hospitality Management               s   \n",
      "\n",
      "  Total Exams Taken Number of Exams with scores 3 4 or 5  \n",
      "0                49                                   10  \n",
      "1                21                                    s  \n",
      "2                26                                   24  \n",
      "3               377                                  191  \n",
      "4                 s                                    s  \n",
      "\n",
      "sat_results\n",
      "\n",
      "      DBN                                    SCHOOL NAME  \\\n",
      "0  01M292  HENRY STREET SCHOOL FOR INTERNATIONAL STUDIES   \n",
      "1  01M448            UNIVERSITY NEIGHBORHOOD HIGH SCHOOL   \n",
      "2  01M450                     EAST SIDE COMMUNITY SCHOOL   \n",
      "3  01M458                      FORSYTH SATELLITE ACADEMY   \n",
      "4  01M509                        MARTA VALLE HIGH SCHOOL   \n",
      "\n",
      "  Num of SAT Test Takers SAT Critical Reading Avg. Score SAT Math Avg. Score  \\\n",
      "0                     29                             355                 404   \n",
      "1                     91                             383                 423   \n",
      "2                     70                             377                 402   \n",
      "3                      7                             414                 401   \n",
      "4                     44                             390                 433   \n",
      "\n",
      "  SAT Writing Avg. Score  \n",
      "0                    363  \n",
      "1                    366  \n",
      "2                    370  \n",
      "3                    359  \n",
      "4                    384  \n",
      "\n",
      "class_size\n",
      "\n",
      "   CSD BOROUGH SCHOOL CODE                SCHOOL NAME GRADE  PROGRAM TYPE  \\\n",
      "0    1       M        M015  P.S. 015 Roberto Clemente     0K       GEN ED   \n",
      "1    1       M        M015  P.S. 015 Roberto Clemente     0K          CTT   \n",
      "2    1       M        M015  P.S. 015 Roberto Clemente     01       GEN ED   \n",
      "3    1       M        M015  P.S. 015 Roberto Clemente     01          CTT   \n",
      "4    1       M        M015  P.S. 015 Roberto Clemente     02       GEN ED   \n",
      "\n",
      "  CORE SUBJECT (MS CORE and 9-12 ONLY) CORE COURSE (MS CORE and 9-12 ONLY)  \\\n",
      "0                                    -                                   -   \n",
      "1                                    -                                   -   \n",
      "2                                    -                                   -   \n",
      "3                                    -                                   -   \n",
      "4                                    -                                   -   \n",
      "\n",
      "  SERVICE CATEGORY(K-9* ONLY)  NUMBER OF STUDENTS / SEATS FILLED  \\\n",
      "0                           -                               19.0   \n",
      "1                           -                               21.0   \n",
      "2                           -                               17.0   \n",
      "3                           -                               17.0   \n",
      "4                           -                               15.0   \n",
      "\n",
      "   NUMBER OF SECTIONS  AVERAGE CLASS SIZE  SIZE OF SMALLEST CLASS  \\\n",
      "0                 1.0                19.0                    19.0   \n",
      "1                 1.0                21.0                    21.0   \n",
      "2                 1.0                17.0                    17.0   \n",
      "3                 1.0                17.0                    17.0   \n",
      "4                 1.0                15.0                    15.0   \n",
      "\n",
      "   SIZE OF LARGEST CLASS DATA SOURCE  SCHOOLWIDE PUPIL-TEACHER RATIO  \n",
      "0                   19.0         ATS                             NaN  \n",
      "1                   21.0         ATS                             NaN  \n",
      "2                   17.0         ATS                             NaN  \n",
      "3                   17.0         ATS                             NaN  \n",
      "4                   15.0         ATS                             NaN  \n",
      "\n",
      "demographics\n",
      "\n",
      "      DBN                       Name  schoolyear fl_percent  frl_percent  \\\n",
      "0  01M015  P.S. 015 ROBERTO CLEMENTE    20052006       89.4          NaN   \n",
      "1  01M015  P.S. 015 ROBERTO CLEMENTE    20062007       89.4          NaN   \n",
      "2  01M015  P.S. 015 ROBERTO CLEMENTE    20072008       89.4          NaN   \n",
      "3  01M015  P.S. 015 ROBERTO CLEMENTE    20082009       89.4          NaN   \n",
      "4  01M015  P.S. 015 ROBERTO CLEMENTE    20092010                    96.5   \n",
      "\n",
      "   total_enrollment prek   k grade1 grade2    ...     black_num black_per  \\\n",
      "0               281   15  36     40     33    ...            74      26.3   \n",
      "1               243   15  29     39     38    ...            68      28.0   \n",
      "2               261   18  43     39     36    ...            77      29.5   \n",
      "3               252   17  37     44     32    ...            75      29.8   \n",
      "4               208   16  40     28     32    ...            67      32.2   \n",
      "\n",
      "  hispanic_num hispanic_per white_num white_per male_num male_per female_num  \\\n",
      "0          189         67.3         5       1.8    158.0     56.2      123.0   \n",
      "1          153         63.0         4       1.6    140.0     57.6      103.0   \n",
      "2          157         60.2         7       2.7    143.0     54.8      118.0   \n",
      "3          149         59.1         7       2.8    149.0     59.1      103.0   \n",
      "4          118         56.7         6       2.9    124.0     59.6       84.0   \n",
      "\n",
      "  female_per  \n",
      "0       43.8  \n",
      "1       42.4  \n",
      "2       45.2  \n",
      "3       40.9  \n",
      "4       40.4  \n",
      "\n",
      "[5 rows x 38 columns]\n",
      "\n",
      "graduation\n",
      "\n",
      "    Demographic     DBN                            School Name    Cohort  \\\n",
      "0  Total Cohort  01M292  HENRY STREET SCHOOL FOR INTERNATIONAL      2003   \n",
      "1  Total Cohort  01M292  HENRY STREET SCHOOL FOR INTERNATIONAL      2004   \n",
      "2  Total Cohort  01M292  HENRY STREET SCHOOL FOR INTERNATIONAL      2005   \n",
      "3  Total Cohort  01M292  HENRY STREET SCHOOL FOR INTERNATIONAL      2006   \n",
      "4  Total Cohort  01M292  HENRY STREET SCHOOL FOR INTERNATIONAL  2006 Aug   \n",
      "\n",
      "   Total Cohort Total Grads - n Total Grads - % of cohort Total Regents - n  \\\n",
      "0             5               s                         s                 s   \n",
      "1            55              37                     67.3%                17   \n",
      "2            64              43                     67.2%                27   \n",
      "3            78              43                     55.1%                36   \n",
      "4            78              44                     56.4%                37   \n",
      "\n",
      "  Total Regents - % of cohort Total Regents - % of grads  \\\n",
      "0                           s                          s   \n",
      "1                       30.9%                      45.9%   \n",
      "2                       42.2%                      62.8%   \n",
      "3                       46.2%                      83.7%   \n",
      "4                       47.4%                      84.1%   \n",
      "\n",
      "             ...            Regents w/o Advanced - n  \\\n",
      "0            ...                                   s   \n",
      "1            ...                                  17   \n",
      "2            ...                                  27   \n",
      "3            ...                                  36   \n",
      "4            ...                                  37   \n",
      "\n",
      "  Regents w/o Advanced - % of cohort Regents w/o Advanced - % of grads  \\\n",
      "0                                  s                                 s   \n",
      "1                              30.9%                             45.9%   \n",
      "2                              42.2%                             62.8%   \n",
      "3                              46.2%                             83.7%   \n",
      "4                              47.4%                             84.1%   \n",
      "\n",
      "  Local - n Local - % of cohort   Local - % of grads Still Enrolled - n  \\\n",
      "0         s                   s                    s                  s   \n",
      "1        20               36.4%                54.1%                 15   \n",
      "2        16                 25%  37.200000000000003%                  9   \n",
      "3         7                  9%                16.3%                 16   \n",
      "4         7                  9%                15.9%                 15   \n",
      "\n",
      "  Still Enrolled - % of cohort Dropped Out - n Dropped Out - % of cohort  \n",
      "0                            s               s                         s  \n",
      "1                        27.3%               3                      5.5%  \n",
      "2                        14.1%               9                     14.1%  \n",
      "3                        20.5%              11                     14.1%  \n",
      "4                        19.2%              11                     14.1%  \n",
      "\n",
      "[5 rows x 23 columns]\n",
      "\n",
      "hs_directory\n",
      "\n",
      "      dbn                                        school_name    borough  \\\n",
      "0  17K548                Brooklyn School for Music & Theatre   Brooklyn   \n",
      "1  09X543                   High School for Violin and Dance      Bronx   \n",
      "2  09X327        Comprehensive Model School Project M.S. 327      Bronx   \n",
      "3  02M280     Manhattan Early College School for Advertising  Manhattan   \n",
      "4  28Q680  Queens Gateway to Health Sciences Secondary Sc...     Queens   \n",
      "\n",
      "  building_code    phone_number    fax_number  grade_span_min  grade_span_max  \\\n",
      "0          K440    718-230-6250  718-230-6262             9.0              12   \n",
      "1          X400    718-842-0687  718-589-9849             9.0              12   \n",
      "2          X240    718-294-8111  718-294-8109             6.0              12   \n",
      "3          M520  718-935-3477             NaN             9.0              10   \n",
      "4          Q695    718-969-3155  718-969-3552             6.0              12   \n",
      "\n",
      "   expgrade_span_min  expgrade_span_max  \\\n",
      "0                NaN                NaN   \n",
      "1                NaN                NaN   \n",
      "2                NaN                NaN   \n",
      "3                9.0               14.0   \n",
      "4                NaN                NaN   \n",
      "\n",
      "                         ...                         priority08 priority09  \\\n",
      "0                        ...                                NaN        NaN   \n",
      "1                        ...                                NaN        NaN   \n",
      "2                        ...                                NaN        NaN   \n",
      "3                        ...                                NaN        NaN   \n",
      "4                        ...                                NaN        NaN   \n",
      "\n",
      "  priority10                                         Location 1  \\\n",
      "0        NaN  883 Classon Avenue\\nBrooklyn, NY 11225\\n(40.67...   \n",
      "1        NaN  1110 Boston Road\\nBronx, NY 10456\\n(40.8276026...   \n",
      "2        NaN  1501 Jerome Avenue\\nBronx, NY 10452\\n(40.84241...   \n",
      "3        NaN  411 Pearl Street\\nNew York, NY 10038\\n(40.7106...   \n",
      "4        NaN  160 20 Goethals Avenue\\nJamaica, NY 11432\\n(40...   \n",
      "\n",
      "  Community Board  Council District Census Tract        BIN           BBL  \\\n",
      "0             9.0              35.0        213.0  3029686.0  3.011870e+09   \n",
      "1             3.0              16.0        135.0  2004526.0  2.026340e+09   \n",
      "2             4.0              14.0        209.0  2008336.0  2.028590e+09   \n",
      "3             1.0               1.0         29.0  1001388.0  1.001130e+09   \n",
      "4             8.0              24.0       1267.0  4539721.0  4.068580e+09   \n",
      "\n",
      "                                                 NTA  \n",
      "0  Crown Heights South                           ...  \n",
      "1  Morrisania-Melrose                            ...  \n",
      "2  West Concourse                                ...  \n",
      "3  Chinatown                                     ...  \n",
      "4  Pomonok-Flushing Heights-Hillcrest            ...  \n",
      "\n",
      "[5 rows x 64 columns]\n"
     ]
    }
   ],
   "source": [
    "import pandas\n",
    "import numpy as np\n",
    "\n",
    "files = [\"math_test_results.csv\", \"ap_2010.csv\", \"sat_results.csv\", \"class_size.csv\", \"demographics.csv\", \"graduation.csv\", \"hs_directory.csv\"]\n",
    "\n",
    "data = {}\n",
    "for f in files:\n",
    "    d = pandas.read_csv(\"{0}\".format(f))\n",
    "    data[f.replace(\".csv\", \"\")] = d\n",
    "for k,v in data.items():\n",
    "    print(\"\\n\" + k + \"\\n\")\n",
    "    print(v.head())"
   ]
  },
  {
   "cell_type": "markdown",
   "metadata": {},
   "source": [
    "* Most of the datasets contain a DBN column\n",
    "* Some fields look interesting for mapping, particularly Location 1, which contains coordinates inside a larger string.\n",
    "* Some of the datasets appear to contain multiple rows for each school (repeated DBN values), which means we'll have to do some preprocessing."
   ]
  },
  {
   "cell_type": "markdown",
   "metadata": {},
   "source": [
    "#### Unifying the data\n",
    "In order to work with the data more easily, we'll need to unify all the individual datasets into a single one. This will enable us to quickly compare columns across datasets. In order to do this, we'll first need to find a common column to unify them on. Looking at the output above, it appears that DBN might be that common column, as it appears in multiple datasets.\n",
    "\n",
    "If we google DBN New York City Schools, we end up here, which explains that the DBN is a unique code for each school. When exploring datasets, particularly government ones, it's often necessary to do some detective work to figure out what each column means, or even what each dataset is.\n",
    "\n",
    "The problem now is that two of the datasets, class_size, and hs_directory, don't have a DBN field. In the hs_directory data, it's just named dbn, so we can just rename the column, or copy it over into a new column called DBN. In the class_size data, we'll need to try a different approach.\n",
    "\n",
    "The DBN column looks like this:\n"
   ]
  },
  {
   "cell_type": "code",
   "execution_count": 2,
   "metadata": {},
   "outputs": [
    {
     "data": {
      "text/plain": [
       "0    01M015\n",
       "1    01M015\n",
       "2    01M015\n",
       "3    01M015\n",
       "4    01M015\n",
       "Name: DBN, dtype: object"
      ]
     },
     "execution_count": 2,
     "metadata": {},
     "output_type": "execute_result"
    }
   ],
   "source": [
    "data['demographics']['DBN'].head()"
   ]
  },
  {
   "cell_type": "code",
   "execution_count": 3,
   "metadata": {},
   "outputs": [
    {
     "data": {
      "text/html": [
       "<div>\n",
       "<style scoped>\n",
       "    .dataframe tbody tr th:only-of-type {\n",
       "        vertical-align: middle;\n",
       "    }\n",
       "\n",
       "    .dataframe tbody tr th {\n",
       "        vertical-align: top;\n",
       "    }\n",
       "\n",
       "    .dataframe thead th {\n",
       "        text-align: right;\n",
       "    }\n",
       "</style>\n",
       "<table border=\"1\" class=\"dataframe\">\n",
       "  <thead>\n",
       "    <tr style=\"text-align: right;\">\n",
       "      <th></th>\n",
       "      <th>CSD</th>\n",
       "      <th>BOROUGH</th>\n",
       "      <th>SCHOOL CODE</th>\n",
       "      <th>SCHOOL NAME</th>\n",
       "      <th>GRADE</th>\n",
       "      <th>PROGRAM TYPE</th>\n",
       "      <th>CORE SUBJECT (MS CORE and 9-12 ONLY)</th>\n",
       "      <th>CORE COURSE (MS CORE and 9-12 ONLY)</th>\n",
       "      <th>SERVICE CATEGORY(K-9* ONLY)</th>\n",
       "      <th>NUMBER OF STUDENTS / SEATS FILLED</th>\n",
       "      <th>NUMBER OF SECTIONS</th>\n",
       "      <th>AVERAGE CLASS SIZE</th>\n",
       "      <th>SIZE OF SMALLEST CLASS</th>\n",
       "      <th>SIZE OF LARGEST CLASS</th>\n",
       "      <th>DATA SOURCE</th>\n",
       "      <th>SCHOOLWIDE PUPIL-TEACHER RATIO</th>\n",
       "    </tr>\n",
       "  </thead>\n",
       "  <tbody>\n",
       "    <tr>\n",
       "      <th>0</th>\n",
       "      <td>1</td>\n",
       "      <td>M</td>\n",
       "      <td>M015</td>\n",
       "      <td>P.S. 015 Roberto Clemente</td>\n",
       "      <td>0K</td>\n",
       "      <td>GEN ED</td>\n",
       "      <td>-</td>\n",
       "      <td>-</td>\n",
       "      <td>-</td>\n",
       "      <td>19.0</td>\n",
       "      <td>1.0</td>\n",
       "      <td>19.0</td>\n",
       "      <td>19.0</td>\n",
       "      <td>19.0</td>\n",
       "      <td>ATS</td>\n",
       "      <td>NaN</td>\n",
       "    </tr>\n",
       "    <tr>\n",
       "      <th>1</th>\n",
       "      <td>1</td>\n",
       "      <td>M</td>\n",
       "      <td>M015</td>\n",
       "      <td>P.S. 015 Roberto Clemente</td>\n",
       "      <td>0K</td>\n",
       "      <td>CTT</td>\n",
       "      <td>-</td>\n",
       "      <td>-</td>\n",
       "      <td>-</td>\n",
       "      <td>21.0</td>\n",
       "      <td>1.0</td>\n",
       "      <td>21.0</td>\n",
       "      <td>21.0</td>\n",
       "      <td>21.0</td>\n",
       "      <td>ATS</td>\n",
       "      <td>NaN</td>\n",
       "    </tr>\n",
       "    <tr>\n",
       "      <th>2</th>\n",
       "      <td>1</td>\n",
       "      <td>M</td>\n",
       "      <td>M015</td>\n",
       "      <td>P.S. 015 Roberto Clemente</td>\n",
       "      <td>01</td>\n",
       "      <td>GEN ED</td>\n",
       "      <td>-</td>\n",
       "      <td>-</td>\n",
       "      <td>-</td>\n",
       "      <td>17.0</td>\n",
       "      <td>1.0</td>\n",
       "      <td>17.0</td>\n",
       "      <td>17.0</td>\n",
       "      <td>17.0</td>\n",
       "      <td>ATS</td>\n",
       "      <td>NaN</td>\n",
       "    </tr>\n",
       "    <tr>\n",
       "      <th>3</th>\n",
       "      <td>1</td>\n",
       "      <td>M</td>\n",
       "      <td>M015</td>\n",
       "      <td>P.S. 015 Roberto Clemente</td>\n",
       "      <td>01</td>\n",
       "      <td>CTT</td>\n",
       "      <td>-</td>\n",
       "      <td>-</td>\n",
       "      <td>-</td>\n",
       "      <td>17.0</td>\n",
       "      <td>1.0</td>\n",
       "      <td>17.0</td>\n",
       "      <td>17.0</td>\n",
       "      <td>17.0</td>\n",
       "      <td>ATS</td>\n",
       "      <td>NaN</td>\n",
       "    </tr>\n",
       "    <tr>\n",
       "      <th>4</th>\n",
       "      <td>1</td>\n",
       "      <td>M</td>\n",
       "      <td>M015</td>\n",
       "      <td>P.S. 015 Roberto Clemente</td>\n",
       "      <td>02</td>\n",
       "      <td>GEN ED</td>\n",
       "      <td>-</td>\n",
       "      <td>-</td>\n",
       "      <td>-</td>\n",
       "      <td>15.0</td>\n",
       "      <td>1.0</td>\n",
       "      <td>15.0</td>\n",
       "      <td>15.0</td>\n",
       "      <td>15.0</td>\n",
       "      <td>ATS</td>\n",
       "      <td>NaN</td>\n",
       "    </tr>\n",
       "  </tbody>\n",
       "</table>\n",
       "</div>"
      ],
      "text/plain": [
       "   CSD BOROUGH SCHOOL CODE                SCHOOL NAME GRADE  PROGRAM TYPE  \\\n",
       "0    1       M        M015  P.S. 015 Roberto Clemente     0K       GEN ED   \n",
       "1    1       M        M015  P.S. 015 Roberto Clemente     0K          CTT   \n",
       "2    1       M        M015  P.S. 015 Roberto Clemente     01       GEN ED   \n",
       "3    1       M        M015  P.S. 015 Roberto Clemente     01          CTT   \n",
       "4    1       M        M015  P.S. 015 Roberto Clemente     02       GEN ED   \n",
       "\n",
       "  CORE SUBJECT (MS CORE and 9-12 ONLY) CORE COURSE (MS CORE and 9-12 ONLY)  \\\n",
       "0                                    -                                   -   \n",
       "1                                    -                                   -   \n",
       "2                                    -                                   -   \n",
       "3                                    -                                   -   \n",
       "4                                    -                                   -   \n",
       "\n",
       "  SERVICE CATEGORY(K-9* ONLY)  NUMBER OF STUDENTS / SEATS FILLED  \\\n",
       "0                           -                               19.0   \n",
       "1                           -                               21.0   \n",
       "2                           -                               17.0   \n",
       "3                           -                               17.0   \n",
       "4                           -                               15.0   \n",
       "\n",
       "   NUMBER OF SECTIONS  AVERAGE CLASS SIZE  SIZE OF SMALLEST CLASS  \\\n",
       "0                 1.0                19.0                    19.0   \n",
       "1                 1.0                21.0                    21.0   \n",
       "2                 1.0                17.0                    17.0   \n",
       "3                 1.0                17.0                    17.0   \n",
       "4                 1.0                15.0                    15.0   \n",
       "\n",
       "   SIZE OF LARGEST CLASS DATA SOURCE  SCHOOLWIDE PUPIL-TEACHER RATIO  \n",
       "0                   19.0         ATS                             NaN  \n",
       "1                   21.0         ATS                             NaN  \n",
       "2                   17.0         ATS                             NaN  \n",
       "3                   17.0         ATS                             NaN  \n",
       "4                   15.0         ATS                             NaN  "
      ]
     },
     "execution_count": 3,
     "metadata": {},
     "output_type": "execute_result"
    }
   ],
   "source": [
    "# look at the class_size data\n",
    "data['class_size'].head()"
   ]
  },
  {
   "cell_type": "markdown",
   "metadata": {},
   "source": [
    "As you can see above, it looks like the DBN is actually a combination of CSD, BOROUGH, and SCHOOL CODE. For those unfamiliar with New York City, it is composed of 5 boroughs. Each borough is an organizational unit, and is about the same size as a fairly large US City. DBN stands for District Borough Number. It looks like CSD is the District, BOROUGH is the borough, and when combined with the SCHOOL CODE, forms the DBN. There's no systematized way to find insights like this in data, and it requires some exploration and playing around to figure out."
   ]
  },
  {
   "cell_type": "code",
   "execution_count": 4,
   "metadata": {},
   "outputs": [],
   "source": [
    "# Now that we know how to construct the DBN, we can add it into the class_size and hs_directory datasets\n",
    "data[\"class_size\"][\"DBN\"] = data[\"class_size\"].apply(lambda x: \"{0:02d}{1}\".format(x[\"CSD\"], x[\"SCHOOL CODE\"]), axis=1)\n",
    "data[\"hs_directory\"][\"DBN\"] = data[\"hs_directory\"][\"dbn\"]"
   ]
  },
  {
   "cell_type": "markdown",
   "metadata": {},
   "source": [
    "#### Adding in the surveys\n",
    "One of the most potentially interesting datasets to look at is the dataset on student, parent, and teacher surveys about the quality of schools. These surveys include information about the perceived safety of each school, academic standards, and more. Before we combine our datasets, let's add in the survey data. In real-world data science projects, you'll often come across interesting data when you're midway through your analysis, and will want to incorporate it."
   ]
  },
  {
   "cell_type": "markdown",
   "metadata": {},
   "source": [
    "In this case, we'll add the survey data into our data dictionary, and then combine all the datasets afterwards. The survey data consists of 2 files, one for all schools, and one for school district 75. We'll need to write some code to combine them\n",
    "\n",
    "* Read in the surveys for all schools using the windows-1252 file encoding.\n",
    "* Read in the surveys for district 75 schools using the windows-1252 file encoding.\n",
    "* Add a flag that indicates which school district each dataset is for.\n",
    "* Combine the datasets into one using the concat method on DataFrames"
   ]
  },
  {
   "cell_type": "code",
   "execution_count": null,
   "metadata": {},
   "outputs": [],
   "source": [
    "survey1 = pandas.read_csv(\"schools/survey_all.txt\", delimiter=\"\\t\", encoding='windows-1252')\n",
    "survey2 = pandas.read_csv(\"schools/survey_d75.txt\", delimiter=\"\\t\", encoding='windows-1252')\n",
    "survey1[\"d75\"] = False\n",
    "survey2[\"d75\"] = True\n",
    "survey = pandas.concat([survey1, survey2], axis=0)"
   ]
  },
  {
   "cell_type": "code",
   "execution_count": null,
   "metadata": {},
   "outputs": [],
   "source": [
    "# Once we have the surveys combined, there's an additional complication.\n",
    "# We want to minimize the number of columns in our combined dataset so we can easily compare columns and \n",
    "# figure out correlations. Unfortunately, the survey data has many columns that aren't very useful to us\n",
    "survey.head()"
   ]
  },
  {
   "cell_type": "code",
   "execution_count": null,
   "metadata": {},
   "outputs": [],
   "source": [
    "# We can resolve this issue by looking at the data dictionary file that we downloaded along with the survey data\n",
    "survey[\"DBN\"] = survey[\"dbn\"]\n",
    "survey_fields = [\"DBN\", \"rr_s\", \"rr_t\", \"rr_p\", \"N_s\", \"N_t\", \"N_p\", \"saf_p_11\", \"com_p_11\", \"eng_p_11\", \"aca_p_11\", \"saf_t_11\", \"com_t_11\", \"eng_t_10\", \"aca_t_11\", \"saf_s_11\", \"com_s_11\", \"eng_s_11\", \"aca_s_11\", \"saf_tot_11\", \"com_tot_11\", \"eng_tot_11\", \"aca_tot_11\",]\n",
    "survey = survey.loc[:,survey_fields]\n",
    "data[\"survey\"] = survey\n",
    "survey.shape\n",
    "# Making sure you understand what each dataset contains, and \n",
    "# what the relevant columns are can save you lots of time and effort later on."
   ]
  },
  {
   "cell_type": "markdown",
   "metadata": {},
   "source": [
    "### Condensing datasets"
   ]
  },
  {
   "cell_type": "code",
   "execution_count": 5,
   "metadata": {},
   "outputs": [
    {
     "data": {
      "text/html": [
       "<div>\n",
       "<style scoped>\n",
       "    .dataframe tbody tr th:only-of-type {\n",
       "        vertical-align: middle;\n",
       "    }\n",
       "\n",
       "    .dataframe tbody tr th {\n",
       "        vertical-align: top;\n",
       "    }\n",
       "\n",
       "    .dataframe thead th {\n",
       "        text-align: right;\n",
       "    }\n",
       "</style>\n",
       "<table border=\"1\" class=\"dataframe\">\n",
       "  <thead>\n",
       "    <tr style=\"text-align: right;\">\n",
       "      <th></th>\n",
       "      <th>CSD</th>\n",
       "      <th>BOROUGH</th>\n",
       "      <th>SCHOOL CODE</th>\n",
       "      <th>SCHOOL NAME</th>\n",
       "      <th>GRADE</th>\n",
       "      <th>PROGRAM TYPE</th>\n",
       "      <th>CORE SUBJECT (MS CORE and 9-12 ONLY)</th>\n",
       "      <th>CORE COURSE (MS CORE and 9-12 ONLY)</th>\n",
       "      <th>SERVICE CATEGORY(K-9* ONLY)</th>\n",
       "      <th>NUMBER OF STUDENTS / SEATS FILLED</th>\n",
       "      <th>NUMBER OF SECTIONS</th>\n",
       "      <th>AVERAGE CLASS SIZE</th>\n",
       "      <th>SIZE OF SMALLEST CLASS</th>\n",
       "      <th>SIZE OF LARGEST CLASS</th>\n",
       "      <th>DATA SOURCE</th>\n",
       "      <th>SCHOOLWIDE PUPIL-TEACHER RATIO</th>\n",
       "      <th>DBN</th>\n",
       "    </tr>\n",
       "  </thead>\n",
       "  <tbody>\n",
       "    <tr>\n",
       "      <th>0</th>\n",
       "      <td>1</td>\n",
       "      <td>M</td>\n",
       "      <td>M015</td>\n",
       "      <td>P.S. 015 Roberto Clemente</td>\n",
       "      <td>0K</td>\n",
       "      <td>GEN ED</td>\n",
       "      <td>-</td>\n",
       "      <td>-</td>\n",
       "      <td>-</td>\n",
       "      <td>19.0</td>\n",
       "      <td>1.0</td>\n",
       "      <td>19.0</td>\n",
       "      <td>19.0</td>\n",
       "      <td>19.0</td>\n",
       "      <td>ATS</td>\n",
       "      <td>NaN</td>\n",
       "      <td>01M015</td>\n",
       "    </tr>\n",
       "    <tr>\n",
       "      <th>1</th>\n",
       "      <td>1</td>\n",
       "      <td>M</td>\n",
       "      <td>M015</td>\n",
       "      <td>P.S. 015 Roberto Clemente</td>\n",
       "      <td>0K</td>\n",
       "      <td>CTT</td>\n",
       "      <td>-</td>\n",
       "      <td>-</td>\n",
       "      <td>-</td>\n",
       "      <td>21.0</td>\n",
       "      <td>1.0</td>\n",
       "      <td>21.0</td>\n",
       "      <td>21.0</td>\n",
       "      <td>21.0</td>\n",
       "      <td>ATS</td>\n",
       "      <td>NaN</td>\n",
       "      <td>01M015</td>\n",
       "    </tr>\n",
       "    <tr>\n",
       "      <th>2</th>\n",
       "      <td>1</td>\n",
       "      <td>M</td>\n",
       "      <td>M015</td>\n",
       "      <td>P.S. 015 Roberto Clemente</td>\n",
       "      <td>01</td>\n",
       "      <td>GEN ED</td>\n",
       "      <td>-</td>\n",
       "      <td>-</td>\n",
       "      <td>-</td>\n",
       "      <td>17.0</td>\n",
       "      <td>1.0</td>\n",
       "      <td>17.0</td>\n",
       "      <td>17.0</td>\n",
       "      <td>17.0</td>\n",
       "      <td>ATS</td>\n",
       "      <td>NaN</td>\n",
       "      <td>01M015</td>\n",
       "    </tr>\n",
       "    <tr>\n",
       "      <th>3</th>\n",
       "      <td>1</td>\n",
       "      <td>M</td>\n",
       "      <td>M015</td>\n",
       "      <td>P.S. 015 Roberto Clemente</td>\n",
       "      <td>01</td>\n",
       "      <td>CTT</td>\n",
       "      <td>-</td>\n",
       "      <td>-</td>\n",
       "      <td>-</td>\n",
       "      <td>17.0</td>\n",
       "      <td>1.0</td>\n",
       "      <td>17.0</td>\n",
       "      <td>17.0</td>\n",
       "      <td>17.0</td>\n",
       "      <td>ATS</td>\n",
       "      <td>NaN</td>\n",
       "      <td>01M015</td>\n",
       "    </tr>\n",
       "    <tr>\n",
       "      <th>4</th>\n",
       "      <td>1</td>\n",
       "      <td>M</td>\n",
       "      <td>M015</td>\n",
       "      <td>P.S. 015 Roberto Clemente</td>\n",
       "      <td>02</td>\n",
       "      <td>GEN ED</td>\n",
       "      <td>-</td>\n",
       "      <td>-</td>\n",
       "      <td>-</td>\n",
       "      <td>15.0</td>\n",
       "      <td>1.0</td>\n",
       "      <td>15.0</td>\n",
       "      <td>15.0</td>\n",
       "      <td>15.0</td>\n",
       "      <td>ATS</td>\n",
       "      <td>NaN</td>\n",
       "      <td>01M015</td>\n",
       "    </tr>\n",
       "  </tbody>\n",
       "</table>\n",
       "</div>"
      ],
      "text/plain": [
       "   CSD BOROUGH SCHOOL CODE                SCHOOL NAME GRADE  PROGRAM TYPE  \\\n",
       "0    1       M        M015  P.S. 015 Roberto Clemente     0K       GEN ED   \n",
       "1    1       M        M015  P.S. 015 Roberto Clemente     0K          CTT   \n",
       "2    1       M        M015  P.S. 015 Roberto Clemente     01       GEN ED   \n",
       "3    1       M        M015  P.S. 015 Roberto Clemente     01          CTT   \n",
       "4    1       M        M015  P.S. 015 Roberto Clemente     02       GEN ED   \n",
       "\n",
       "  CORE SUBJECT (MS CORE and 9-12 ONLY) CORE COURSE (MS CORE and 9-12 ONLY)  \\\n",
       "0                                    -                                   -   \n",
       "1                                    -                                   -   \n",
       "2                                    -                                   -   \n",
       "3                                    -                                   -   \n",
       "4                                    -                                   -   \n",
       "\n",
       "  SERVICE CATEGORY(K-9* ONLY)  NUMBER OF STUDENTS / SEATS FILLED  \\\n",
       "0                           -                               19.0   \n",
       "1                           -                               21.0   \n",
       "2                           -                               17.0   \n",
       "3                           -                               17.0   \n",
       "4                           -                               15.0   \n",
       "\n",
       "   NUMBER OF SECTIONS  AVERAGE CLASS SIZE  SIZE OF SMALLEST CLASS  \\\n",
       "0                 1.0                19.0                    19.0   \n",
       "1                 1.0                21.0                    21.0   \n",
       "2                 1.0                17.0                    17.0   \n",
       "3                 1.0                17.0                    17.0   \n",
       "4                 1.0                15.0                    15.0   \n",
       "\n",
       "   SIZE OF LARGEST CLASS DATA SOURCE  SCHOOLWIDE PUPIL-TEACHER RATIO     DBN  \n",
       "0                   19.0         ATS                             NaN  01M015  \n",
       "1                   21.0         ATS                             NaN  01M015  \n",
       "2                   17.0         ATS                             NaN  01M015  \n",
       "3                   17.0         ATS                             NaN  01M015  \n",
       "4                   15.0         ATS                             NaN  01M015  "
      ]
     },
     "execution_count": 5,
     "metadata": {},
     "output_type": "execute_result"
    }
   ],
   "source": [
    "data[\"class_size\"].head()\n",
    "# The Problem\n",
    "# There are several rows for each high school (as you can see by the repeated DBN and SCHOOL NAME fields)"
   ]
  },
  {
   "cell_type": "code",
   "execution_count": 6,
   "metadata": {},
   "outputs": [
    {
     "data": {
      "text/html": [
       "<div>\n",
       "<style scoped>\n",
       "    .dataframe tbody tr th:only-of-type {\n",
       "        vertical-align: middle;\n",
       "    }\n",
       "\n",
       "    .dataframe tbody tr th {\n",
       "        vertical-align: top;\n",
       "    }\n",
       "\n",
       "    .dataframe thead th {\n",
       "        text-align: right;\n",
       "    }\n",
       "</style>\n",
       "<table border=\"1\" class=\"dataframe\">\n",
       "  <thead>\n",
       "    <tr style=\"text-align: right;\">\n",
       "      <th></th>\n",
       "      <th>DBN</th>\n",
       "      <th>SCHOOL NAME</th>\n",
       "      <th>Num of SAT Test Takers</th>\n",
       "      <th>SAT Critical Reading Avg. Score</th>\n",
       "      <th>SAT Math Avg. Score</th>\n",
       "      <th>SAT Writing Avg. Score</th>\n",
       "    </tr>\n",
       "  </thead>\n",
       "  <tbody>\n",
       "    <tr>\n",
       "      <th>0</th>\n",
       "      <td>01M292</td>\n",
       "      <td>HENRY STREET SCHOOL FOR INTERNATIONAL STUDIES</td>\n",
       "      <td>29</td>\n",
       "      <td>355</td>\n",
       "      <td>404</td>\n",
       "      <td>363</td>\n",
       "    </tr>\n",
       "    <tr>\n",
       "      <th>1</th>\n",
       "      <td>01M448</td>\n",
       "      <td>UNIVERSITY NEIGHBORHOOD HIGH SCHOOL</td>\n",
       "      <td>91</td>\n",
       "      <td>383</td>\n",
       "      <td>423</td>\n",
       "      <td>366</td>\n",
       "    </tr>\n",
       "    <tr>\n",
       "      <th>2</th>\n",
       "      <td>01M450</td>\n",
       "      <td>EAST SIDE COMMUNITY SCHOOL</td>\n",
       "      <td>70</td>\n",
       "      <td>377</td>\n",
       "      <td>402</td>\n",
       "      <td>370</td>\n",
       "    </tr>\n",
       "    <tr>\n",
       "      <th>3</th>\n",
       "      <td>01M458</td>\n",
       "      <td>FORSYTH SATELLITE ACADEMY</td>\n",
       "      <td>7</td>\n",
       "      <td>414</td>\n",
       "      <td>401</td>\n",
       "      <td>359</td>\n",
       "    </tr>\n",
       "    <tr>\n",
       "      <th>4</th>\n",
       "      <td>01M509</td>\n",
       "      <td>MARTA VALLE HIGH SCHOOL</td>\n",
       "      <td>44</td>\n",
       "      <td>390</td>\n",
       "      <td>433</td>\n",
       "      <td>384</td>\n",
       "    </tr>\n",
       "  </tbody>\n",
       "</table>\n",
       "</div>"
      ],
      "text/plain": [
       "      DBN                                    SCHOOL NAME  \\\n",
       "0  01M292  HENRY STREET SCHOOL FOR INTERNATIONAL STUDIES   \n",
       "1  01M448            UNIVERSITY NEIGHBORHOOD HIGH SCHOOL   \n",
       "2  01M450                     EAST SIDE COMMUNITY SCHOOL   \n",
       "3  01M458                      FORSYTH SATELLITE ACADEMY   \n",
       "4  01M509                        MARTA VALLE HIGH SCHOOL   \n",
       "\n",
       "  Num of SAT Test Takers SAT Critical Reading Avg. Score SAT Math Avg. Score  \\\n",
       "0                     29                             355                 404   \n",
       "1                     91                             383                 423   \n",
       "2                     70                             377                 402   \n",
       "3                      7                             414                 401   \n",
       "4                     44                             390                 433   \n",
       "\n",
       "  SAT Writing Avg. Score  \n",
       "0                    363  \n",
       "1                    366  \n",
       "2                    370  \n",
       "3                    359  \n",
       "4                    384  "
      ]
     },
     "execution_count": 6,
     "metadata": {},
     "output_type": "execute_result"
    }
   ],
   "source": [
    "# However, if we take a look at the sat_results dataset, it only has one row per high school\n",
    "data[\"sat_results\"].head()"
   ]
  },
  {
   "cell_type": "markdown",
   "metadata": {},
   "source": [
    "In order to combine these datasets, we'll need to find a way to condense datasets like class_size to the point where there's only a single row per high school. If not, there won't be a way to compare SAT scores to class size. We can accomplish this by first understanding the data better, then by doing some aggregation. With the class_size dataset, it looks like GRADE and PROGRAM TYPE have multiple values for each school. By restricting each field to a single value, we can filter most of the duplicate rows. In the below code, we:\n",
    "\n",
    "* Only select values from class_size where the GRADE field is 09-12.\n",
    "* Only select values from class_size where the PROGRAM TYPE field is GEN ED.\n",
    "* Group the class_size dataset by DBN, and take the average of each column. Essentially, we'll find the average class_size values for each school.\n",
    "* Reset the index, so DBN is added back in as a column."
   ]
  },
  {
   "cell_type": "code",
   "execution_count": 7,
   "metadata": {},
   "outputs": [],
   "source": [
    "class_size = data[\"class_size\"]\n",
    "class_size = class_size[class_size[\"GRADE \"] == \"09-12\"]\n",
    "class_size = class_size[class_size[\"PROGRAM TYPE\"] == \"GEN ED\"]\n",
    "class_size = class_size.groupby(\"DBN\").agg(np.mean)\n",
    "class_size.reset_index(inplace=True)\n",
    "data[\"class_size\"] = class_size"
   ]
  },
  {
   "cell_type": "markdown",
   "metadata": {},
   "source": [
    "#### Condensing other datasets\n",
    "Next, we'll need to condense the **demographics dataset**. The data was collected for multiple years for the same schools, so there are duplicate rows for each school. We'll only pick rows where the schoolyear field is the most **recent available**"
   ]
  },
  {
   "cell_type": "code",
   "execution_count": 8,
   "metadata": {},
   "outputs": [],
   "source": [
    "demographics = data[\"demographics\"]\n",
    "demographics = demographics[demographics[\"schoolyear\"] == 20112012]\n",
    "data[\"demographics\"] = demographics"
   ]
  },
  {
   "cell_type": "code",
   "execution_count": 9,
   "metadata": {},
   "outputs": [],
   "source": [
    "# We'll need to condense the math_test_results dataset. This dataset is segmented by Grade and by Year. \n",
    "# We can select only a single grade from a single year\n",
    "data[\"math_test_results\"] = data[\"math_test_results\"][data[\"math_test_results\"][\"Year\"] == 2011]\n",
    "data[\"math_test_results\"] = data[\"math_test_results\"][data[\"math_test_results\"][\"Grade\"] == '8']"
   ]
  },
  {
   "cell_type": "code",
   "execution_count": 10,
   "metadata": {},
   "outputs": [],
   "source": [
    "data[\"graduation\"] = data[\"graduation\"][data[\"graduation\"][\"Cohort\"] == \"2006\"]\n",
    "data[\"graduation\"] = data[\"graduation\"][data[\"graduation\"][\"Demographic\"] == \"Total Cohort\"]\n",
    "# Data cleaning and exploration is critical before working on the meat of the project. Having a good, consistent dataset will help you do your analysis more quickly"
   ]
  },
  {
   "cell_type": "markdown",
   "metadata": {},
   "source": [
    "### Computing variables\n",
    "Computing variables can help speed up our analysis by enabling us to make comparisons more quickly, and enable us to make comparisons that we otherwise wouldn't be able to do. The first thing we can do is compute a total SAT score from the individual columns **SAT Math Avg. Score, SAT Critical Reading Avg. Score, and SAT Writing Avg. Score**\n",
    "* Convert each of the SAT score columns from a string to a number.\n",
    "* Add together all of the columns to get the sat_score column, which is the total SAT score."
   ]
  },
  {
   "cell_type": "code",
   "execution_count": 11,
   "metadata": {},
   "outputs": [],
   "source": [
    "cols = ['SAT Math Avg. Score', 'SAT Critical Reading Avg. Score', 'SAT Writing Avg. Score']\n",
    "for c in cols:\n",
    "    # there are strings such as 's' in col, need to use coerce\n",
    "    # df[pd.to_numeric(df.col, errors='coerce').isnull()\n",
    "    data[\"sat_results\"][c]=pandas.to_numeric(data[\"sat_results\"][c], errors='coerce')\n",
    "    \n",
    "\n",
    "data['sat_results']['sat_score'] = data['sat_results'][cols[0]] + data['sat_results'][cols[1]] + data['sat_results'][cols[2]]"
   ]
  },
  {
   "cell_type": "markdown",
   "metadata": {},
   "source": [
    "#### Next, we'll need to parse out the coordinate locations of each school, so we can make maps. This will enable us to plot the location of each school. In the below code, we:\n",
    "\n",
    "* Parse latitude and longitude columns from the Location 1 column.\n",
    "* Convert lat and lon to be numeric."
   ]
  },
  {
   "cell_type": "code",
   "execution_count": 12,
   "metadata": {},
   "outputs": [],
   "source": [
    "data[\"hs_directory\"]['lat'] = data[\"hs_directory\"]['Location 1'].apply(lambda x: x.split(\"\\n\")[-1].replace(\"(\", \"\").replace(\")\", \"\").split(\", \")[0])\n",
    "data[\"hs_directory\"]['lon'] = data[\"hs_directory\"]['Location 1'].apply(lambda x: x.split(\"\\n\")[-1].replace(\"(\", \"\").replace(\")\", \"\").split(\", \")[1])\n",
    "\n",
    "for c in ['lat', 'lon']:\n",
    "    data[\"hs_directory\"][c] = pandas.to_numeric(data[\"hs_directory\"][c])"
   ]
  },
  {
   "cell_type": "code",
   "execution_count": 13,
   "metadata": {},
   "outputs": [
    {
     "name": "stdout",
     "output_type": "stream",
     "text": [
      "math_test_results\n",
      "        DBN Grade  Year      Category  Number Tested Mean Scale Score  \\\n",
      "111  01M034     8  2011  All Students             48              646   \n",
      "280  01M140     8  2011  All Students             61              665   \n",
      "346  01M184     8  2011  All Students             49              727   \n",
      "388  01M188     8  2011  All Students             49              658   \n",
      "411  01M292     8  2011  All Students             49              650   \n",
      "\n",
      "    Level 1 # Level 1 % Level 2 # Level 2 % Level 3 # Level 3 % Level 4 #  \\\n",
      "111        15     31.3%        22     45.8%        11     22.9%         0   \n",
      "280         1      1.6%        43     70.5%        17     27.9%         0   \n",
      "346         0        0%         0        0%         5     10.2%        44   \n",
      "388        10     20.4%        26     53.1%        10     20.4%         3   \n",
      "411        15     30.6%        25       51%         7     14.3%         2   \n",
      "\n",
      "    Level 4 % Level 3+4 # Level 3+4 %  \n",
      "111        0%          11       22.9%  \n",
      "280        0%          17       27.9%  \n",
      "346     89.8%          49        100%  \n",
      "388      6.1%          13       26.5%  \n",
      "411      4.1%           9       18.4%  \n",
      "ap_2010\n",
      "      DBN                             SchoolName AP Test Takers   \\\n",
      "0  01M448           UNIVERSITY NEIGHBORHOOD H.S.              39   \n",
      "1  01M450                 EAST SIDE COMMUNITY HS              19   \n",
      "2  01M515                    LOWER EASTSIDE PREP              24   \n",
      "3  01M539         NEW EXPLORATIONS SCI,TECH,MATH             255   \n",
      "4  02M296  High School of Hospitality Management               s   \n",
      "\n",
      "  Total Exams Taken Number of Exams with scores 3 4 or 5  \n",
      "0                49                                   10  \n",
      "1                21                                    s  \n",
      "2                26                                   24  \n",
      "3               377                                  191  \n",
      "4                 s                                    s  \n",
      "sat_results\n",
      "      DBN                                    SCHOOL NAME  \\\n",
      "0  01M292  HENRY STREET SCHOOL FOR INTERNATIONAL STUDIES   \n",
      "1  01M448            UNIVERSITY NEIGHBORHOOD HIGH SCHOOL   \n",
      "2  01M450                     EAST SIDE COMMUNITY SCHOOL   \n",
      "3  01M458                      FORSYTH SATELLITE ACADEMY   \n",
      "4  01M509                        MARTA VALLE HIGH SCHOOL   \n",
      "\n",
      "  Num of SAT Test Takers  SAT Critical Reading Avg. Score  \\\n",
      "0                     29                            355.0   \n",
      "1                     91                            383.0   \n",
      "2                     70                            377.0   \n",
      "3                      7                            414.0   \n",
      "4                     44                            390.0   \n",
      "\n",
      "   SAT Math Avg. Score  SAT Writing Avg. Score  sat_score  \n",
      "0                404.0                   363.0     1122.0  \n",
      "1                423.0                   366.0     1172.0  \n",
      "2                402.0                   370.0     1149.0  \n",
      "3                401.0                   359.0     1174.0  \n",
      "4                433.0                   384.0     1207.0  \n",
      "class_size\n",
      "      DBN  CSD  NUMBER OF STUDENTS / SEATS FILLED  NUMBER OF SECTIONS  \\\n",
      "0  01M292    1                            88.0000            4.000000   \n",
      "1  01M332    1                            46.0000            2.000000   \n",
      "2  01M378    1                            33.0000            1.000000   \n",
      "3  01M448    1                           105.6875            4.750000   \n",
      "4  01M450    1                            57.6000            2.733333   \n",
      "\n",
      "   AVERAGE CLASS SIZE  SIZE OF SMALLEST CLASS  SIZE OF LARGEST CLASS  \\\n",
      "0           22.564286                   18.50              26.571429   \n",
      "1           22.000000                   21.00              23.500000   \n",
      "2           33.000000                   33.00              33.000000   \n",
      "3           22.231250                   18.25              27.062500   \n",
      "4           21.200000                   19.40              22.866667   \n",
      "\n",
      "   SCHOOLWIDE PUPIL-TEACHER RATIO  \n",
      "0                             NaN  \n",
      "1                             NaN  \n",
      "2                             NaN  \n",
      "3                             NaN  \n",
      "4                             NaN  \n",
      "demographics\n",
      "       DBN                                              Name  schoolyear  \\\n",
      "6   01M015  P.S. 015 ROBERTO CLEMENTE                           20112012   \n",
      "13  01M019  P.S. 019 ASHER LEVY                                 20112012   \n",
      "20  01M020  PS 020 ANNA SILVER                                  20112012   \n",
      "27  01M034  PS 034 FRANKLIN D ROOSEVELT                         20112012   \n",
      "35  01M063  PS 063 WILLIAM MCKINLEY                             20112012   \n",
      "\n",
      "   fl_percent  frl_percent  total_enrollment prek    k grade1 grade2  \\\n",
      "6         NaN         89.4               189   13   31     35     28   \n",
      "13        NaN         61.5               328   32   46     52     54   \n",
      "20        NaN         92.5               626   52  102    121     87   \n",
      "27        NaN         99.7               401   14   34     38     36   \n",
      "35        NaN         78.9               176   18   20     30     21   \n",
      "\n",
      "      ...     black_num black_per hispanic_num hispanic_per white_num  \\\n",
      "6     ...            63      33.3          109         57.7         4   \n",
      "13    ...            81      24.7          158         48.2        28   \n",
      "20    ...            55       8.8          357         57.0        16   \n",
      "27    ...            90      22.4          275         68.6         8   \n",
      "35    ...            41      23.3          110         62.5        15   \n",
      "\n",
      "   white_per male_num male_per female_num female_per  \n",
      "6        2.1     97.0     51.3       92.0       48.7  \n",
      "13       8.5    147.0     44.8      181.0       55.2  \n",
      "20       2.6    330.0     52.7      296.0       47.3  \n",
      "27       2.0    204.0     50.9      197.0       49.1  \n",
      "35       8.5     97.0     55.1       79.0       44.9  \n",
      "\n",
      "[5 rows x 38 columns]\n",
      "graduation\n",
      "     Demographic     DBN                            School Name Cohort  \\\n",
      "3   Total Cohort  01M292  HENRY STREET SCHOOL FOR INTERNATIONAL   2006   \n",
      "10  Total Cohort  01M448    UNIVERSITY NEIGHBORHOOD HIGH SCHOOL   2006   \n",
      "17  Total Cohort  01M450             EAST SIDE COMMUNITY SCHOOL   2006   \n",
      "24  Total Cohort  01M509                MARTA VALLE HIGH SCHOOL   2006   \n",
      "31  Total Cohort  01M515  LOWER EAST SIDE PREPARATORY HIGH SCHO   2006   \n",
      "\n",
      "    Total Cohort Total Grads - n Total Grads - % of cohort Total Regents - n  \\\n",
      "3             78              43                     55.1%                36   \n",
      "10           124              53                     42.7%                42   \n",
      "17            90              70                     77.8%                67   \n",
      "24            84              47                       56%                40   \n",
      "31           193             105                     54.4%                91   \n",
      "\n",
      "   Total Regents - % of cohort Total Regents - % of grads  \\\n",
      "3                        46.2%                      83.7%   \n",
      "10                       33.9%                      79.2%   \n",
      "17         74.400000000000006%                      95.7%   \n",
      "24                       47.6%                      85.1%   \n",
      "31                       47.2%                      86.7%   \n",
      "\n",
      "              ...            Regents w/o Advanced - n  \\\n",
      "3             ...                                  36   \n",
      "10            ...                                  34   \n",
      "17            ...                                  67   \n",
      "24            ...                                  23   \n",
      "31            ...                                  22   \n",
      "\n",
      "   Regents w/o Advanced - % of cohort Regents w/o Advanced - % of grads  \\\n",
      "3                               46.2%                             83.7%   \n",
      "10                              27.4%                             64.2%   \n",
      "17                74.400000000000006%                             95.7%   \n",
      "24                              27.4%                             48.9%   \n",
      "31                              11.4%                               21%   \n",
      "\n",
      "   Local - n Local - % of cohort Local - % of grads Still Enrolled - n  \\\n",
      "3          7                  9%              16.3%                 16   \n",
      "10        11                8.9%              20.8%                 46   \n",
      "17         3                3.3%               4.3%                 15   \n",
      "24         7  8.300000000000001%              14.9%                 25   \n",
      "31        14                7.3%              13.3%                 53   \n",
      "\n",
      "   Still Enrolled - % of cohort Dropped Out - n Dropped Out - % of cohort  \n",
      "3                         20.5%              11                     14.1%  \n",
      "10                        37.1%              20       16.100000000000001%  \n",
      "17                        16.7%               5                      5.6%  \n",
      "24                        29.8%               5                        6%  \n",
      "31                        27.5%              35       18.100000000000001%  \n",
      "\n",
      "[5 rows x 23 columns]\n",
      "hs_directory\n",
      "      dbn                                        school_name    borough  \\\n",
      "0  17K548                Brooklyn School for Music & Theatre   Brooklyn   \n",
      "1  09X543                   High School for Violin and Dance      Bronx   \n",
      "2  09X327        Comprehensive Model School Project M.S. 327      Bronx   \n",
      "3  02M280     Manhattan Early College School for Advertising  Manhattan   \n",
      "4  28Q680  Queens Gateway to Health Sciences Secondary Sc...     Queens   \n",
      "\n",
      "  building_code    phone_number    fax_number  grade_span_min  grade_span_max  \\\n",
      "0          K440    718-230-6250  718-230-6262             9.0              12   \n",
      "1          X400    718-842-0687  718-589-9849             9.0              12   \n",
      "2          X240    718-294-8111  718-294-8109             6.0              12   \n",
      "3          M520  718-935-3477             NaN             9.0              10   \n",
      "4          Q695    718-969-3155  718-969-3552             6.0              12   \n",
      "\n",
      "   expgrade_span_min  expgrade_span_max    ...      \\\n",
      "0                NaN                NaN    ...       \n",
      "1                NaN                NaN    ...       \n",
      "2                NaN                NaN    ...       \n",
      "3                9.0               14.0    ...       \n",
      "4                NaN                NaN    ...       \n",
      "\n",
      "                                          Location 1 Community Board  \\\n",
      "0  883 Classon Avenue\\nBrooklyn, NY 11225\\n(40.67...             9.0   \n",
      "1  1110 Boston Road\\nBronx, NY 10456\\n(40.8276026...             3.0   \n",
      "2  1501 Jerome Avenue\\nBronx, NY 10452\\n(40.84241...             4.0   \n",
      "3  411 Pearl Street\\nNew York, NY 10038\\n(40.7106...             1.0   \n",
      "4  160 20 Goethals Avenue\\nJamaica, NY 11432\\n(40...             8.0   \n",
      "\n",
      "  Council District Census Tract        BIN           BBL  \\\n",
      "0             35.0        213.0  3029686.0  3.011870e+09   \n",
      "1             16.0        135.0  2004526.0  2.026340e+09   \n",
      "2             14.0        209.0  2008336.0  2.028590e+09   \n",
      "3              1.0         29.0  1001388.0  1.001130e+09   \n",
      "4             24.0       1267.0  4539721.0  4.068580e+09   \n",
      "\n",
      "                                                 NTA     DBN        lat  \\\n",
      "0  Crown Heights South                           ...  17K548  40.670299   \n",
      "1  Morrisania-Melrose                            ...  09X543  40.827603   \n",
      "2  West Concourse                                ...  09X327  40.842414   \n",
      "3  Chinatown                                     ...  02M280  40.710679   \n",
      "4  Pomonok-Flushing Heights-Hillcrest            ...  28Q680  40.718810   \n",
      "\n",
      "         lon  \n",
      "0 -73.961648  \n",
      "1 -73.904475  \n",
      "2 -73.916162  \n",
      "3 -74.000807  \n",
      "4 -73.806500  \n",
      "\n",
      "[5 rows x 67 columns]\n"
     ]
    }
   ],
   "source": [
    "for k,v in data.items():\n",
    "    print(k)\n",
    "    print(v.head())"
   ]
  },
  {
   "cell_type": "markdown",
   "metadata": {},
   "source": [
    "#### Combining the datasets\n",
    "Now that we've done all the preliminaries, we can combine the datasets together using the **DBN column**. At the end, we'll have a dataset with hundreds of columns, from each of the original datasets. When we join them, it's important to note that some of the datasets are **missing high schools that exist in the sat_results dataset**. To resolve this, we'll need to merge the datasets that have missing rows using the **outer join** strategy, so we don't lose data. In real-world data analysis, it's common to have data be missing. **Being able to demonstrate the ability to reason about and handle missing data is an important part of building a portfolio**\n",
    "\n",
    "In below:\n",
    "* Loop through each of the items in the data dictionary.\n",
    "* Print the number of non-unique DBNs in the item.\n",
    "* Decide on a join strategy -- inner or outer.\n",
    "* Join the item to the DataFrame full using the column DBN."
   ]
  },
  {
   "cell_type": "code",
   "execution_count": 14,
   "metadata": {},
   "outputs": [
    {
     "name": "stdout",
     "output_type": "stream",
     "text": [
      "ap_2010\n",
      "1\n",
      "sat_results\n",
      "0\n",
      "class_size\n",
      "0\n",
      "demographics\n",
      "0\n",
      "graduation\n",
      "0\n",
      "hs_directory\n",
      "0\n"
     ]
    },
    {
     "data": {
      "text/plain": [
       "(374, 158)"
      ]
     },
     "execution_count": 14,
     "metadata": {},
     "output_type": "execute_result"
    }
   ],
   "source": [
    "flat_data_names = [k for k,v in data.items()]\n",
    "flat_data = [data[k] for k in flat_data_names]\n",
    "full = flat_data[0]\n",
    "for i, f in enumerate(flat_data[1:]):\n",
    "    name = flat_data_names[i+1]\n",
    "    print(name)\n",
    "    print(len(f[\"DBN\"]) - len(f[\"DBN\"].unique()))\n",
    "    join_type = \"inner\"\n",
    "    if name in [\"sat_results\", \"ap_2010\", \"graduation\"]:\n",
    "        join_type = \"outer\"\n",
    "    if name not in [\"math_test_results\"]:\n",
    "        full = full.merge(f, on=\"DBN\", how=join_type)\n",
    "\n",
    "full.shape"
   ]
  },
  {
   "cell_type": "markdown",
   "metadata": {},
   "source": [
    "### Need to fill in survey data"
   ]
  },
  {
   "cell_type": "markdown",
   "metadata": {},
   "source": [
    "### Adding in values\n",
    "Now that we have our full DataFrame, we have almost all the information we'll need to do our analysis. There are a few missing pieces, though. We may want to correlate the Advanced Placement exam results with SAT scores, but we'll need to first convert those columns to numbers, then fill in any missing values:"
   ]
  },
  {
   "cell_type": "code",
   "execution_count": 15,
   "metadata": {},
   "outputs": [],
   "source": [
    "cols = ['AP Test Takers ', 'Total Exams Taken', 'Number of Exams with scores 3 4 or 5']\n",
    "\n",
    "for col in cols:\n",
    "    full[col] = pandas.to_numeric(full[col], errors='coerce')\n",
    "full[cols] = full[cols].fillna(value=0)"
   ]
  },
  {
   "cell_type": "markdown",
   "metadata": {},
   "source": [
    "Then, we'll need to calculate a school_dist column that indicates the school district of the school. This will enable us to match up school districts and plot out district-level statistics using the district maps we downloaded earlier:"
   ]
  },
  {
   "cell_type": "code",
   "execution_count": 16,
   "metadata": {},
   "outputs": [],
   "source": [
    "full[\"school_dist\"] = full[\"DBN\"].apply(lambda x: x[:2])\n",
    "#Finally, we'll need to fill in any missing values in full with the mean of the column, so we can compute correlations:\n",
    "full = full.fillna(full.mean())"
   ]
  },
  {
   "cell_type": "markdown",
   "metadata": {},
   "source": [
    "### Computing correlations\n",
    "A good way to explore a dataset and see what columns are related to the one you care about is to compute correlations. This will tell you which columns are closely related to the column you're interested in. We can do this via the corr method on Pandas DataFrames. The closer to 0 the correlation, the weaker the connection. The closer to 1, the stronger the positive correlation, and the closer to -1, the stronger the negative correlation:"
   ]
  },
  {
   "cell_type": "code",
   "execution_count": 17,
   "metadata": {},
   "outputs": [
    {
     "data": {
      "text/plain": [
       "Year                                             NaN\n",
       "Number Tested                           8.127817e-02\n",
       "AP Test Takers                          5.687940e-01\n",
       "Total Exams Taken                       5.585421e-01\n",
       "Number of Exams with scores 3 4 or 5    5.619043e-01\n",
       "SAT Critical Reading Avg. Score         9.868201e-01\n",
       "SAT Math Avg. Score                     9.726430e-01\n",
       "SAT Writing Avg. Score                  9.877708e-01\n",
       "sat_score                               1.000000e+00\n",
       "CSD                                     4.274064e-02\n",
       "NUMBER OF STUDENTS / SEATS FILLED       3.893165e-01\n",
       "NUMBER OF SECTIONS                      3.556337e-01\n",
       "AVERAGE CLASS SIZE                      3.731897e-01\n",
       "SIZE OF SMALLEST CLASS                  2.440690e-01\n",
       "SIZE OF LARGEST CLASS                   3.052551e-01\n",
       "SCHOOLWIDE PUPIL-TEACHER RATIO                   NaN\n",
       "schoolyear                                       NaN\n",
       "frl_percent                            -7.018217e-01\n",
       "total_enrollment                        3.668201e-01\n",
       "ell_num                                -1.535745e-01\n",
       "ell_percent                            -3.981643e-01\n",
       "sped_num                                3.486852e-02\n",
       "sped_percent                           -4.413665e-01\n",
       "asian_num                               4.748801e-01\n",
       "asian_per                               5.686267e-01\n",
       "black_num                               2.788331e-02\n",
       "black_per                              -2.827907e-01\n",
       "hispanic_num                            2.568811e-02\n",
       "hispanic_per                           -3.926373e-01\n",
       "white_num                               4.490835e-01\n",
       "white_per                               6.100860e-01\n",
       "male_num                                3.245320e-01\n",
       "male_per                               -1.101484e-01\n",
       "female_num                              3.876979e-01\n",
       "female_per                              1.101928e-01\n",
       "Total Cohort                            3.244785e-01\n",
       "grade_span_min                         -2.069254e-02\n",
       "grade_span_max                         -2.495359e-17\n",
       "expgrade_span_min                                NaN\n",
       "expgrade_span_max                                NaN\n",
       "postcode                               -6.312962e-02\n",
       "total_students                          4.066081e-01\n",
       "number_programs                         1.166234e-01\n",
       "Community Board                        -6.038758e-02\n",
       "Council District                       -7.508580e-02\n",
       "Census Tract                            4.872007e-02\n",
       "BIN                                     5.173587e-02\n",
       "BBL                                     4.400788e-02\n",
       "lat                                    -1.198662e-01\n",
       "lon                                    -1.315241e-01\n",
       "Name: sat_score, dtype: float64"
      ]
     },
     "execution_count": 17,
     "metadata": {},
     "output_type": "execute_result"
    }
   ],
   "source": [
    "full.corr()['sat_score']"
   ]
  },
  {
   "cell_type": "markdown",
   "metadata": {},
   "source": [
    "### This gives us quite a few insights that we'll need to explore:\n",
    "\n",
    "* Total enrollment correlates strongly with sat_score, which is surprising, because you'd think smaller schools, which focused more on the student, would have higher scores.\n",
    "* The percentage of females at a school (female_per) correlates positively with SAT score, whereas the percentage of males (male_per) correlates negatively.\n",
    "* None of the survey responses correlate highly with SAT scores.\n",
    "* There is a significant racial inequality in SAT scores (white_per, asian_per, black_per, hispanic_per).\n",
    "* ell_percent correlates strongly negatively with SAT scores"
   ]
  },
  {
   "cell_type": "markdown",
   "metadata": {},
   "source": [
    "#### Exploring enrollment and SAT scores\n",
    "move into exploring the angles we identified earlier, when we were finding correlations. The first angle to explore is the relationship between the number of students enrolled in a school and SAT scor"
   ]
  },
  {
   "cell_type": "code",
   "execution_count": 24,
   "metadata": {},
   "outputs": [
    {
     "data": {
      "text/plain": [
       "<matplotlib.axes._subplots.AxesSubplot at 0x1673d104710>"
      ]
     },
     "execution_count": 24,
     "metadata": {},
     "output_type": "execute_result"
    },
    {
     "data": {
      "image/png": "[encoded data removed]",
      "text/plain": [
       "<Figure size 432x288 with 1 Axes>"
      ]
     },
     "metadata": {},
     "output_type": "display_data"
    }
   ],
   "source": [
    "#  total enrollment across all schools to SAT scores across all schools\n",
    "%matplotlib inline\n",
    "\n",
    "full.plot.scatter(x='total_enrollment', y='sat_score')"
   ]
  },
  {
   "cell_type": "markdown",
   "metadata": {},
   "source": [
    "there's a cluster at the bottom left with low total enrollment and low SAT scores. Other than this cluster, there appears to only be a slight positive correlation between SAT scores and total enrollment. Graphing out correlations can reveal unexpected patterns."
   ]
  },
  {
   "cell_type": "code",
   "execution_count": null,
   "metadata": {},
   "outputs": [],
   "source": [
    "full[(full[\"total_enrollment\"] < 1000) & (full[\"sat_score\"] < 1000)][\"School Name\"]\n",
    "# Some searching on Google shows that most of these schools are for students who are learning English,\n",
    "# and are low enrollment as a result. This exploration showed us that it's not total enrollment that's correlated to \n",
    "# SAT score -- it's whether or not students in the school are learning English as a second language or not."
   ]
  },
  {
   "cell_type": "markdown",
   "metadata": {},
   "source": [
    "#### Exploring English language learners and SAT scores\n",
    "Now that we know the percentage of English language learners in a school is correlated with lower SAT scores, we can explore the relationship. The ell_percent column is the percentage of students in each school who are learning English. We can make a scatterplot of this relationship:"
   ]
  },
  {
   "cell_type": "code",
   "execution_count": 25,
   "metadata": {},
   "outputs": [
    {
     "data": {
      "text/plain": [
       "<matplotlib.axes._subplots.AxesSubplot at 0x1673d411898>"
      ]
     },
     "execution_count": 25,
     "metadata": {},
     "output_type": "execute_result"
    },
    {
     "data": {
      "image/png": "[encoded data removed]",
      "text/plain": [
       "<Figure size 432x288 with 1 Axes>"
      ]
     },
     "metadata": {},
     "output_type": "display_data"
    }
   ],
   "source": [
    "full.plot.scatter(x='ell_percent', y='sat_score')"
   ]
  },
  {
   "cell_type": "markdown",
   "metadata": {},
   "source": [
    "#### Correlating survey scores and SAT scores\n",
    "It would be fair to assume that the results of student, parent, and teacher surveys would have a large correlation with SAT scores. It makes sense that schools with high academic expectations, for instance, would tend to have higher SAT scores. To test this theory, lets plot out SAT scores and the various survey metrics"
   ]
  },
  {
   "cell_type": "code",
   "execution_count": null,
   "metadata": {},
   "outputs": [],
   "source": [
    "full.corr()[\"sat_score\"][[\"rr_s\", \"rr_t\", \"rr_p\", \"N_s\", \"N_t\", \"N_p\", \"saf_tot_11\", \"com_tot_11\", \"aca_tot_11\", \"eng_tot_11\"]].plot.bar()"
   ]
  },
  {
   "cell_type": "markdown",
   "metadata": {},
   "source": [
    "Surprisingly, the two factors that correlate the most are N_p and N_s, which are the counts of parents and students who responded to the surveys. Both strongly correlate with total enrollment, so are likely biased by the ell_learners. The other metric that correlates most is saf_t_11. That is how safe students, parents, and teachers perceived the school to be. It makes sense that the safer the school, the more comfortable students feel learning in the environment. However, none of the other factors, like engagement, communication, and academic expectations, correlated with SAT scores. This may indicate that NYC is asking the wrong questions in surveys, or thinking about the wrong factors (if their goal is to improve SAT scores, it may not be)."
   ]
  },
  {
   "cell_type": "markdown",
   "metadata": {},
   "source": [
    "#### Exploring race and SAT scores\n",
    "One of the other angles to investigate involves race and SAT scores. There was a large correlation differential, and plotting it out will help us understand what's happening:"
   ]
  },
  {
   "cell_type": "code",
   "execution_count": 26,
   "metadata": {},
   "outputs": [
    {
     "data": {
      "text/plain": [
       "<matplotlib.axes._subplots.AxesSubplot at 0x1673d4573c8>"
      ]
     },
     "execution_count": 26,
     "metadata": {},
     "output_type": "execute_result"
    },
    {
     "data": {
      "image/png": "[encoded data removed]",
      "text/plain": [
       "<Figure size 432x288 with 1 Axes>"
      ]
     },
     "metadata": {},
     "output_type": "display_data"
    }
   ],
   "source": [
    "full.corr()[\"sat_score\"][[\"white_per\", \"asian_per\", \"black_per\", \"hispanic_per\"]].plot.bar()"
   ]
  },
  {
   "cell_type": "markdown",
   "metadata": {},
   "source": [
    "It looks like the higher percentages of white and asian students correlate with higher SAT scores, but higher percentages of black and hispanic students correlate with lower SAT scores. For hispanic students, this may be due to the fact that there are more recent immigrants who are ELL learners"
   ]
  },
  {
   "cell_type": "markdown",
   "metadata": {},
   "source": [
    "#### Gender differences in SAT scores\n",
    "The final angle to explore is the relationship between gender and SAT score. We noted that a higher percentage of females in a school tends to correlate with higher SAT scores. We can visualize this with a bar graph:"
   ]
  },
  {
   "cell_type": "code",
   "execution_count": 27,
   "metadata": {},
   "outputs": [
    {
     "data": {
      "text/plain": [
       "<matplotlib.axes._subplots.AxesSubplot at 0x1673d4e1518>"
      ]
     },
     "execution_count": 27,
     "metadata": {},
     "output_type": "execute_result"
    },
    {
     "data": {
      "image/png": "[encoded data removed]",
      "text/plain": [
       "<Figure size 432x288 with 1 Axes>"
      ]
     },
     "metadata": {},
     "output_type": "display_data"
    }
   ],
   "source": [
    "full.corr()[\"sat_score\"][[\"male_per\", \"female_per\"]].plot.bar()"
   ]
  },
  {
   "cell_type": "code",
   "execution_count": 28,
   "metadata": {},
   "outputs": [
    {
     "data": {
      "text/plain": [
       "<matplotlib.axes._subplots.AxesSubplot at 0x1673a6bcc50>"
      ]
     },
     "execution_count": 28,
     "metadata": {},
     "output_type": "execute_result"
    },
    {
     "data": {
      "image/png": "[encoded data removed]",
      "text/plain": [
       "<Figure size 432x288 with 1 Axes>"
      ]
     },
     "metadata": {},
     "output_type": "display_data"
    }
   ],
   "source": [
    "# To dig more into the correlation, we can make a scatterplot of female_per and sat_score:\n",
    "full.plot.scatter(x='female_per', y='sat_score')"
   ]
  },
  {
   "cell_type": "markdown",
   "metadata": {},
   "source": [
    "It looks like there's a cluster of schools with a high percentage of females, and very high SAT scores (in the top right). We can get the names of the schools in this cluster:"
   ]
  },
  {
   "cell_type": "code",
   "execution_count": 29,
   "metadata": {},
   "outputs": [
    {
     "data": {
      "text/plain": [
       "3             PROFESSIONAL PERFORMING ARTS HIGH SCH\n",
       "92                    ELEANOR ROOSEVELT HIGH SCHOOL\n",
       "100                    TALENT UNLIMITED HIGH SCHOOL\n",
       "111            FIORELLO H. LAGUARDIA HIGH SCHOOL OF\n",
       "229                     TOWNSEND HARRIS HIGH SCHOOL\n",
       "250    FRANK SINATRA SCHOOL OF THE ARTS HIGH SCHOOL\n",
       "265                  BARD HIGH SCHOOL EARLY COLLEGE\n",
       "Name: School Name, dtype: object"
      ]
     },
     "execution_count": 29,
     "metadata": {},
     "output_type": "execute_result"
    }
   ],
   "source": [
    "full[(full[\"female_per\"] > 65) & (full[\"sat_score\"] > 1400)][\"School Name\"]"
   ]
  },
  {
   "cell_type": "markdown",
   "metadata": {},
   "source": [
    "Searching Google reveals that these are elite schools that focus on the performing arts. These schools tend to have higher percentages of females, and higher SAT scores. This likely accounts for the correlation between higher female percentages and SAT scores, and the inverse correlation between higher male percentages and lower SAT scores"
   ]
  },
  {
   "cell_type": "markdown",
   "metadata": {},
   "source": [
    "#### AP scores\n",
    "So far, we've looked at demographic angles. One angle that we have the data to look at is the relationship between more students taking Advanced Placement exams and higher SAT scores. It makes sense that they would be correlated, since students who are high academic achievers tend to do better on the SAT."
   ]
  },
  {
   "cell_type": "code",
   "execution_count": 30,
   "metadata": {},
   "outputs": [
    {
     "data": {
      "text/plain": [
       "<matplotlib.axes._subplots.AxesSubplot at 0x1673a6a5358>"
      ]
     },
     "execution_count": 30,
     "metadata": {},
     "output_type": "execute_result"
    },
    {
     "data": {
      "image/png": "[encoded data removed]",
      "text/plain": [
       "<Figure size 432x288 with 1 Axes>"
      ]
     },
     "metadata": {},
     "output_type": "display_data"
    }
   ],
   "source": [
    "full[\"ap_avg\"] = full[\"AP Test Takers \"] / full[\"total_enrollment\"]\n",
    "\n",
    "full.plot.scatter(x='ap_avg', y='sat_score')"
   ]
  },
  {
   "cell_type": "markdown",
   "metadata": {},
   "source": [
    "It looks like there is indeed a strong correlation between the two. An interesting cluster of schools is the one at the top right, which has high SAT scores and a high proportion of students that take the AP exams:"
   ]
  },
  {
   "cell_type": "code",
   "execution_count": 31,
   "metadata": {},
   "outputs": [
    {
     "data": {
      "text/plain": [
       "92             ELEANOR ROOSEVELT HIGH SCHOOL\n",
       "98                    STUYVESANT HIGH SCHOOL\n",
       "157             BRONX HIGH SCHOOL OF SCIENCE\n",
       "161    HIGH SCHOOL OF AMERICAN STUDIES AT LE\n",
       "176           BROOKLYN TECHNICAL HIGH SCHOOL\n",
       "229              TOWNSEND HARRIS HIGH SCHOOL\n",
       "243    QUEENS HIGH SCHOOL FOR THE SCIENCES A\n",
       "260      STATEN ISLAND TECHNICAL HIGH SCHOOL\n",
       "Name: School Name, dtype: object"
      ]
     },
     "execution_count": 31,
     "metadata": {},
     "output_type": "execute_result"
    }
   ],
   "source": [
    "full[(full[\"ap_avg\"] > .3) & (full[\"sat_score\"] > 1700)][\"School Name\"]"
   ]
  },
  {
   "cell_type": "markdown",
   "metadata": {},
   "source": [
    "Some Google searching reveals that these are mostly highly selective schools where you need to take a test to get in. It makes sense that these schools would have high proportions of AP test takers."
   ]
  },
  {
   "cell_type": "code",
   "execution_count": null,
   "metadata": {},
   "outputs": [],
   "source": []
  }
 ],
 "metadata": {
  "kernelspec": {
   "display_name": "Python 3",
   "language": "python",
   "name": "python3"
  },
  "language_info": {
   "codemirror_mode": {
    "name": "ipython",
    "version": 3
   },
   "file_extension": ".py",
   "mimetype": "text/x-python",
   "name": "python",
   "nbconvert_exporter": "python",
   "pygments_lexer": "ipython3",
   "version": "3.6.5"
  }
 },
 "nbformat": 4,
 "nbformat_minor": 2
}
