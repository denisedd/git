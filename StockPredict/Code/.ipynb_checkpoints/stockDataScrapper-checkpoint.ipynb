{
 "cells": [
  {
   "cell_type": "code",
   "execution_count": 3,
   "metadata": {
    "scrolled": true
   },
   "outputs": [],
   "source": [
    "import os\n",
    "from alpha_vantage.timeseries import TimeSeries\n",
    "\n",
    "root = '../Data/Stock_price'\n",
    "if not os.path.exists(root):\n",
    "    os.makedirs(root)\n",
    "\n",
    "# use alpha vantage to acquire company stock price\n",
    "companies = ['AAPL', 'AMZN', 'FB', 'GOOGL', 'MSFT']\n",
    "\n",
    "for company in companies:\n",
    "    ts = TimeSeries(key='B6SSV4IOXA4AT7RV',output_format='pandas', indexing_type='date')\n",
    "    # Get json object with the intraday data and another with  the call's metadata\n",
    "    data, meta_data = ts.get_daily_adjusted(symbol=company, outputsize='full')\n",
    "    data.to_csv(os.path.join(root, company+'.csv'))"
   ]
  },
  {
   "cell_type": "code",
   "execution_count": 4,
   "metadata": {},
   "outputs": [],
   "source": [
    "import datetime\n",
    "import quandl\n",
    "# use quandl to acquire nasdaq composite\n",
    "ndq = quandl.get(\"NASDAQOMX/COMP-NASDAQ\") \n",
    "#               trim_start='2018-03-01', \n",
    "#               trim_end='2018-04-03')\n",
    "\n",
    "ndq.to_csv(os.path.join(root, 'nasdaq_composite'+'.csv'))"
   ]
  },
  {
   "cell_type": "code",
   "execution_count": null,
   "metadata": {},
   "outputs": [],
   "source": []
  }
 ],
 "metadata": {
  "kernelspec": {
   "display_name": "Python 3",
   "language": "python",
   "name": "python3"
  },
  "language_info": {
   "codemirror_mode": {
    "name": "ipython",
    "version": 3
   },
   "file_extension": ".py",
   "mimetype": "text/x-python",
   "name": "python",
   "nbconvert_exporter": "python",
   "pygments_lexer": "ipython3",
   "version": "3.6.7"
  }
 },
 "nbformat": 4,
 "nbformat_minor": 2
}
