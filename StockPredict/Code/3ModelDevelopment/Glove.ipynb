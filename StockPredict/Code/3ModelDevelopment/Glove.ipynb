{
 "cells": [
  {
   "cell_type": "markdown",
   "metadata": {},
   "source": [
    "## LSTM Classification model\n",
    "\n",
    "1. read dataset from 2008 to 2019\n",
    "2. data preprocess and train Glove model\n",
    "3. fit headline into trained Glove model and transform it into words embedding\n",
    "4. Calculate the mean of Glove embedding since there are several headlines each day\n",
    "5. We compare the model performance with RNN and CNN+RNN model\n",
    "6. Accuracy rate of RNN is 52% and CNN+RNN model is 58%\n"
   ]
  },
  {
   "cell_type": "code",
   "execution_count": 1,
   "metadata": {},
   "outputs": [],
   "source": [
    "import pandas as pd\n",
    "import numpy as np\n",
    "import re\n",
    "import matplotlib.pyplot as plt\n",
    "import seaborn as sns\n",
    "import pickle\n",
    "import json"
   ]
  },
  {
   "cell_type": "code",
   "execution_count": 2,
   "metadata": {},
   "outputs": [],
   "source": [
    "import quandl\n",
    "def stocks(start_date, end_date):\n",
    "# use quandl to acquire nasdaq composite\n",
    "    ndq = quandl.get(\"NASDAQOMX/COMP-NASDAQ\",\n",
    "                        start_date = start_date, \n",
    "                        end_date = end_date)\n",
    "    ndq_df = ndq.reset_index()\n",
    "    return ndq_df\n",
    "\n",
    "def index_fluc(value):\n",
    "    if value >0:\n",
    "        return 1\n",
    "    elif value <0:\n",
    "        return 0\n",
    "    else:\n",
    "        return -1\n",
    "\n",
    "def concat_headline(df):\n",
    "    result_1 = df[['date', 'le_headline']]\n",
    "    result_2 = result_1.groupby('date').cumcount() + 1\n",
    "    result_3 = result_1.set_index(['date', result_2]).unstack().sort_index(1, level=1)\n",
    "    result_3.columns = ['_'.join(map(str,i)) for i in result_3.columns]\n",
    "    result_3 = result_3.reset_index()\n",
    "    result_3['date'] = pd.to_datetime(result_3['date'])\n",
    "    return result_3"
   ]
  },
  {
   "cell_type": "code",
   "execution_count": 5,
   "metadata": {},
   "outputs": [
    {
     "data": {
      "text/html": [
       "<div>\n",
       "<style scoped>\n",
       "    .dataframe tbody tr th:only-of-type {\n",
       "        vertical-align: middle;\n",
       "    }\n",
       "\n",
       "    .dataframe tbody tr th {\n",
       "        vertical-align: top;\n",
       "    }\n",
       "\n",
       "    .dataframe thead th {\n",
       "        text-align: right;\n",
       "    }\n",
       "</style>\n",
       "<table border=\"1\" class=\"dataframe\">\n",
       "  <thead>\n",
       "    <tr style=\"text-align: right;\">\n",
       "      <th></th>\n",
       "      <th>date</th>\n",
       "      <th>headline</th>\n",
       "    </tr>\n",
       "  </thead>\n",
       "  <tbody>\n",
       "    <tr>\n",
       "      <th>73607</th>\n",
       "      <td>2008-06-08</td>\n",
       "      <td>Marriage, they said, was reduced to the status...</td>\n",
       "    </tr>\n",
       "    <tr>\n",
       "      <th>73583</th>\n",
       "      <td>2008-06-08</td>\n",
       "      <td>Nim Chimpsky: The tragedy of the chimp who tho...</td>\n",
       "    </tr>\n",
       "    <tr>\n",
       "      <th>73584</th>\n",
       "      <td>2008-06-08</td>\n",
       "      <td>\"Canada: Beware slippery slope' to censorship,...</td>\n",
       "    </tr>\n",
       "    <tr>\n",
       "      <th>73585</th>\n",
       "      <td>2008-06-08</td>\n",
       "      <td>EU Vice-President Luisa Morgantini and the Iri...</td>\n",
       "    </tr>\n",
       "    <tr>\n",
       "      <th>73586</th>\n",
       "      <td>2008-06-08</td>\n",
       "      <td>\"Israeli minister: Israel will attack Iran if ...</td>\n",
       "    </tr>\n",
       "  </tbody>\n",
       "</table>\n",
       "</div>"
      ],
      "text/plain": [
       "            date                                           headline\n",
       "73607 2008-06-08  Marriage, they said, was reduced to the status...\n",
       "73583 2008-06-08  Nim Chimpsky: The tragedy of the chimp who tho...\n",
       "73584 2008-06-08  \"Canada: Beware slippery slope' to censorship,...\n",
       "73585 2008-06-08  EU Vice-President Luisa Morgantini and the Iri...\n",
       "73586 2008-06-08  \"Israeli minister: Israel will attack Iran if ..."
      ]
     },
     "execution_count": 5,
     "metadata": {},
     "output_type": "execute_result"
    }
   ],
   "source": [
    "import warnings\n",
    "warnings.filterwarnings('ignore')\n",
    "# 2008-06-08\n",
    "data = pd.read_csv('../../Data/stocknews/RedditNews.csv')\n",
    "data['Date'] = pd.to_datetime(data['Date'])\n",
    "df = data.loc[data['Date'] < '20140101']\n",
    "df['News'] = df['News'].str.strip(\"b'\")\n",
    "df = df.sort_values(by='Date')\n",
    "df.rename(index=str, columns={\"Date\": \"date\", \"News\": \"headline\"}, inplace =True)\n",
    "df.head()"
   ]
  },
  {
   "cell_type": "code",
   "execution_count": 6,
   "metadata": {},
   "outputs": [],
   "source": [
    "# 20140101-20190404\n",
    "data_1 = pd.read_pickle('../../Data/ProcessedNews.pkl')\n",
    "data_1['date'] = pd.to_datetime(data_1['date'])\n",
    "df_2 = data_1.sort_values(by='date')\n",
    "df_2 = df_2[['date', 'headline']]\n",
    "df_2 = df_2.loc[df_2['date'] >= '20140101']"
   ]
  },
  {
   "cell_type": "code",
   "execution_count": 7,
   "metadata": {},
   "outputs": [],
   "source": [
    "# remove stopwords, tkenize, lemmatize\n",
    "import nltk\n",
    "import string\n",
    "from nltk.tokenize import RegexpTokenizer\n",
    "from nltk.corpus import stopwords\n",
    "from nltk.stem import WordNetLemmatizer\n",
    "stop_words = set(stopwords.words('english'))\n",
    "lemmatizer = WordNetLemmatizer()\n",
    "\n",
    "def tokenize_remove_stop(text):\n",
    "    if text:\n",
    "        text = text.lower()\n",
    "        tokens = RegexpTokenizer(r'\\w+').tokenize(text)\n",
    "        result = [i for i in tokens if not i in stop_words]\n",
    "        return result\n",
    "    \n",
    "def lemantize(tokens):\n",
    "    if tokens:\n",
    "        return [lemmatizer.lemmatize(word) for word in tokens]\n",
    "\n",
    "# concat 2 dataframe from 2008-2019\n",
    "df_3 = pd.concat([df, df_2], sort=False)\n",
    "df_3['proc_headline'] = df_3['headline'].apply(tokenize_remove_stop)\n",
    "df_3['le_headline'] = df_3['proc_headline'].apply(lemantize)\n",
    "headline_lst = df_3['le_headline'].tolist()"
   ]
  },
  {
   "cell_type": "code",
   "execution_count": 9,
   "metadata": {},
   "outputs": [],
   "source": [
    "import warnings\n",
    "warnings.filterwarnings('ignore')\n",
    "# fit into glove model\n",
    "from glove import Corpus, Glove\n",
    "\n",
    "# creating a corpus object\n",
    "corpus = Corpus() \n",
    "\n",
    "#training the corpus to generate the co occurence matrix which is used in GloVe\n",
    "corpus.fit(headline_lst, window=10)\n",
    "\n",
    "#creating a Glove object which will use the matrix created in the above lines to create embeddings\n",
    "#We can set the learning rate as it uses Gradient Descent and number of components\n",
    "\n",
    "glove = Glove(no_components=10, learning_rate=0.025)\n",
    " \n",
    "glove.fit(corpus.matrix, epochs=30, no_threads=4, verbose=False)\n",
    "glove.add_dictionary(corpus.dictionary)\n",
    "glove.save('glove_10.model')"
   ]
  },
  {
   "cell_type": "code",
   "execution_count": 13,
   "metadata": {},
   "outputs": [],
   "source": [
    "# Load pre-trained GloVe model\n",
    "glove = Glove.load('model/glove_10.model')\n",
    "\n",
    "df_5 = concat_headline(df_3)\n",
    "# get df_2 col\n",
    "cols_lst = df_5.columns.tolist()\n",
    "cols = cols_lst[1:]\n",
    "ttl = []\n",
    "# calculate mean glove embedding of headline everyday\n",
    "for index, row in df_5.iterrows():\n",
    "    lst = []\n",
    "    for col in cols:\n",
    "        if str(row[col]) != 'nan' and row[col]:\n",
    "            for token in row[col]:\n",
    "                lst.append(glove.word_vectors[glove.dictionary[token]])\n",
    "        \n",
    "    arr_glove = np.asarray(lst)\n",
    "    arr_mean = np.mean(arr_glove, axis=0)\n",
    "    ttl.append(arr_mean)"
   ]
  },
  {
   "cell_type": "code",
   "execution_count": 14,
   "metadata": {},
   "outputs": [],
   "source": [
    "# concatenate the dataset with stocks price\n",
    "stocks_df1 = stocks('2008-06-08', '2019-04-04')\n",
    "stocks_df2 = stocks_df1[['Trade Date', 'Index Value']]\n",
    "df_6 = df_5.merge(stocks_df2, how='outer', left_on='date', right_on='Trade Date')"
   ]
  },
  {
   "cell_type": "code",
   "execution_count": 15,
   "metadata": {},
   "outputs": [
    {
     "data": {
      "text/html": [
       "<div>\n",
       "<style scoped>\n",
       "    .dataframe tbody tr th:only-of-type {\n",
       "        vertical-align: middle;\n",
       "    }\n",
       "\n",
       "    .dataframe tbody tr th {\n",
       "        vertical-align: top;\n",
       "    }\n",
       "\n",
       "    .dataframe thead th {\n",
       "        text-align: right;\n",
       "    }\n",
       "</style>\n",
       "<table border=\"1\" class=\"dataframe\">\n",
       "  <thead>\n",
       "    <tr style=\"text-align: right;\">\n",
       "      <th></th>\n",
       "      <th>date</th>\n",
       "      <th>Trade Date</th>\n",
       "      <th>Index Value</th>\n",
       "      <th>Glove</th>\n",
       "    </tr>\n",
       "  </thead>\n",
       "  <tbody>\n",
       "    <tr>\n",
       "      <th>0</th>\n",
       "      <td>2008-06-08</td>\n",
       "      <td>NaT</td>\n",
       "      <td>NaN</td>\n",
       "      <td>[-0.2249758741497344, -0.2254718510278744, 0.0...</td>\n",
       "    </tr>\n",
       "    <tr>\n",
       "      <th>1</th>\n",
       "      <td>2008-06-09</td>\n",
       "      <td>2008-06-09</td>\n",
       "      <td>2459.46</td>\n",
       "      <td>[-0.2216792760966708, -0.21400256051510191, 0....</td>\n",
       "    </tr>\n",
       "    <tr>\n",
       "      <th>2</th>\n",
       "      <td>2008-06-10</td>\n",
       "      <td>2008-06-10</td>\n",
       "      <td>2448.94</td>\n",
       "      <td>[-0.2835721898451362, -0.26033440137419306, 0....</td>\n",
       "    </tr>\n",
       "    <tr>\n",
       "      <th>3</th>\n",
       "      <td>2008-06-11</td>\n",
       "      <td>2008-06-11</td>\n",
       "      <td>2394.01</td>\n",
       "      <td>[-0.25927798051132633, -0.24425361764639286, 0...</td>\n",
       "    </tr>\n",
       "    <tr>\n",
       "      <th>4</th>\n",
       "      <td>2008-06-12</td>\n",
       "      <td>2008-06-12</td>\n",
       "      <td>2404.35</td>\n",
       "      <td>[-0.23261138029473025, -0.21503853977887916, 0...</td>\n",
       "    </tr>\n",
       "  </tbody>\n",
       "</table>\n",
       "</div>"
      ],
      "text/plain": [
       "        date Trade Date  Index Value  \\\n",
       "0 2008-06-08        NaT          NaN   \n",
       "1 2008-06-09 2008-06-09      2459.46   \n",
       "2 2008-06-10 2008-06-10      2448.94   \n",
       "3 2008-06-11 2008-06-11      2394.01   \n",
       "4 2008-06-12 2008-06-12      2404.35   \n",
       "\n",
       "                                               Glove  \n",
       "0  [-0.2249758741497344, -0.2254718510278744, 0.0...  \n",
       "1  [-0.2216792760966708, -0.21400256051510191, 0....  \n",
       "2  [-0.2835721898451362, -0.26033440137419306, 0....  \n",
       "3  [-0.25927798051132633, -0.24425361764639286, 0...  \n",
       "4  [-0.23261138029473025, -0.21503853977887916, 0...  "
      ]
     },
     "execution_count": 15,
     "metadata": {},
     "output_type": "execute_result"
    }
   ],
   "source": [
    "df_6 = df_6[['date', 'Trade Date', 'Index Value']]\n",
    "df_6['Glove'] = ttl\n",
    "df_6.head()"
   ]
  },
  {
   "cell_type": "code",
   "execution_count": 16,
   "metadata": {},
   "outputs": [],
   "source": [
    "def Glove_mean(df):\n",
    "    lst = []\n",
    "    if pd.isnull(df['Index Value']):\n",
    "        lst.append(df['Glove'])\n",
    "        lst.append(df['Glove_1'])\n",
    "        arr_glove = np.asarray(lst)\n",
    "        arr_mean = np.mean(arr_glove, axis=0)\n",
    "    else:\n",
    "        arr_mean = df['Glove']\n",
    "    return arr_mean\n",
    "# when there is no trade date but have news\n",
    "# get mean of glove score with non-trade date and trade date\n",
    "df_6['Glove_1'] = df_6['Glove'].shift(-1)\n",
    "df_6['glove_embed'] = df_6.apply(Glove_mean, axis=1)\n",
    "df_7 = df_6.merge(stocks_df2, how='right', left_on='date', right_on='Trade Date')\n",
    "df_7['diff'] = df_7['Index Value_x'].diff()\n",
    "df_7['diff'] = df_7['diff'].fillna(0)\n",
    "\n",
    "df_7['Label'] = df_7['diff'].apply(index_fluc)\n",
    "df_7 = df_7.loc[df_7['Label'] != -1]\n",
    "df_7 = df_7.iloc[:-1, :]"
   ]
  },
  {
   "cell_type": "code",
   "execution_count": 17,
   "metadata": {},
   "outputs": [
    {
     "name": "stdout",
     "output_type": "stream",
     "text": [
      "(2159, 15, 10)\n",
      "(540, 15, 10)\n",
      "(2159,)\n",
      "(540,)\n"
     ]
    }
   ],
   "source": [
    "lst = df_7['glove_embed'].tolist()\n",
    "# set window_size.\n",
    "# chunk data\n",
    "result = []\n",
    "window_size = 15\n",
    "for index in range(len(lst) - window_size):\n",
    "    result.append(lst[index: index + window_size])\n",
    "    \n",
    "glove = np.array(result)\n",
    "train_size = round(glove.shape[0]*0.8)\n",
    "x_train = glove[:train_size,:]\n",
    "x_test = glove[train_size:,:]\n",
    "y_train = df_7['Label'].iloc[:train_size] \n",
    "y_test = df_7['Label'].iloc[train_size:len(glove)]\n",
    "print(x_train.shape)\n",
    "print(x_test.shape)\n",
    "print(y_train.shape)\n",
    "print(y_test.shape)"
   ]
  },
  {
   "cell_type": "code",
   "execution_count": 81,
   "metadata": {},
   "outputs": [],
   "source": [
    "from tensorflow.keras.layers import Dense, Activation, Dropout, BatchNormalization, Conv1D, LSTM, GRU, MaxPooling1D, Flatten\n",
    "from tensorflow.keras.models import Sequential\n",
    "from tensorflow.keras.optimizers import Adam\n",
    "from keras.callbacks import ReduceLROnPlateau, EarlyStopping, ModelCheckpoint\n",
    "import os\n",
    "\n",
    "if not os.path.exists('model'):\n",
    "    os.makedirs('model')\n",
    "\n",
    "filepath=\"model/rnncnn_5000.hdf5\"\n",
    "# reduce_LR = ReduceLROnPlateau(monitor='val_acc', factor=0.98, patience=30, min_lr=1e-6, verbose=1)\n",
    "e_stopping = EarlyStopping(patience=800)\n",
    "# verbose\n",
    "checkpoint = ModelCheckpoint(filepath, \n",
    "                             monitor='val_loss', \n",
    "                             verbose=0, \n",
    "                             save_best_only=True)\n",
    "\n",
    "\n",
    "model = Sequential()\n",
    "model.add(Conv1D(filters=64, kernel_size=5, padding='same', activation='selu', input_shape=(window_size, x_train.shape[-1])))\n",
    "#model.add(MaxPooling1D(pool_size=2))\n",
    "model.add(LSTM(15, return_sequences=True))\n",
    "model.add(Dense(64))\n",
    "model.add(BatchNormalization())\n",
    "model.add(Activation('selu'))\n",
    "model.add(Dropout(0.5))\n",
    "\n",
    "#Second recurrent layer\n",
    "model.add(LSTM(8, return_sequences=False))\n",
    "model.add(Dense(32))\n",
    "model.add(Activation('selu'))\n",
    "model.add(Dropout(0.5))\n",
    "\n",
    "model.add(Dense(64))\n",
    "model.add(BatchNormalization())\n",
    "model.add(Activation('selu'))\n",
    "model.add(Dropout(0.3))\n",
    "\n",
    "model.add(Dense(32))\n",
    "model.add(BatchNormalization())\n",
    "model.add(Activation('selu'))\n",
    "model.add(Dropout(0.2))\n",
    "\n",
    "model.add(Dense(1, activation='sigmoid'))\n",
    "    \n",
    "model.compile(loss='binary_crossentropy', optimizer='adam', metrics=['accuracy'])\n",
    "\n",
    "# if train, turn on.\n",
    "# history = model.fit(x_train, y_train, epochs=5000, batch_size=150,\n",
    "#         validation_split = 0.1 , verbose=0, shuffle=False, callbacks=[checkpoint, e_stopping]) # validation_data = (x_test,y_test)"
   ]
  },
  {
   "cell_type": "code",
   "execution_count": 45,
   "metadata": {},
   "outputs": [
    {
     "data": {
      "image/png": "[encoded data removed]",
      "text/plain": [
       "<Figure size 432x288 with 1 Axes>"
      ]
     },
     "metadata": {},
     "output_type": "display_data"
    },
    {
     "data": {
      "image/png": "[encoded data removed]",
      "text/plain": [
       "<Figure size 432x288 with 1 Axes>"
      ]
     },
     "metadata": {},
     "output_type": "display_data"
    }
   ],
   "source": [
    "# Visualize the loss and accuracy.\n",
    "plt.plot(history.history['loss'])\n",
    "plt.plot(history.history['val_loss'])\n",
    "plt.legend(['TrainLoss', 'ValLoss'])\n",
    "plt.show()\n",
    "\n",
    "plt.plot(history.history['acc'])\n",
    "plt.plot(history.history['val_acc'])\n",
    "plt.legend(['TrainAcc', 'ValAcc'])\n",
    "plt.show()"
   ]
  },
  {
   "cell_type": "code",
   "execution_count": 46,
   "metadata": {},
   "outputs": [
    {
     "data": {
      "text/plain": [
       "['loss', 'acc']"
      ]
     },
     "execution_count": 46,
     "metadata": {},
     "output_type": "execute_result"
    }
   ],
   "source": [
    "model.metrics_names"
   ]
  },
  {
   "cell_type": "code",
   "execution_count": 77,
   "metadata": {},
   "outputs": [
    {
     "name": "stdout",
     "output_type": "stream",
     "text": [
      "540/540 [==============================] - 0s 373us/step\n"
     ]
    },
    {
     "data": {
      "text/plain": [
       "[0.6822089579370286, 0.5777777782192937]"
      ]
     },
     "execution_count": 77,
     "metadata": {},
     "output_type": "execute_result"
    }
   ],
   "source": [
    "# rnn+cnn epochs 500 with all selu activation function\n",
    "model= load_model('model/rnncnn_5000.hdf5')\n",
    "model.evaluate(x_test,y_test)"
   ]
  },
  {
   "cell_type": "code",
   "execution_count": 92,
   "metadata": {},
   "outputs": [],
   "source": [
    "# lstm rnn only\n",
    "from tensorflow.keras.layers import Dense, Activation, Dropout\n",
    "from tensorflow.keras.layers import LSTM\n",
    "from tensorflow.keras.models import Sequential\n",
    "from tensorflow.keras.optimizers import Adam\n",
    "\n",
    "window_size = 15\n",
    "activation_function = 'sigmoid'\n",
    "loss_function = 'binary_crossentropy'\n",
    "optimizer = Adam(lr=0.00005)\n",
    "metrics = ['accuracy']\n",
    "\n",
    "if not os.path.exists('model'):\n",
    "    os.makedirs('model')\n",
    "\n",
    "filepath=\"model/rnn_800.hdf5\"\n",
    "\n",
    "model = Sequential()\n",
    "\n",
    "#First recurrent layer with dropout\n",
    "model.add(LSTM(window_size, input_shape=(window_size, x_train.shape[-1])))\n",
    "model.add(Dense(100))\n",
    "model.add(BatchNormalization())\n",
    "model.add(Activation('relu'))\n",
    "model.add(Dropout(0.3))\n",
    "\n",
    "#Output layer (returns the predicted value)\n",
    "model.add(Dense(units=1))\n",
    "\n",
    "#Set activation function\n",
    "model.add(Activation(activation_function))\n",
    "\n",
    "#Set loss function and optimizer\n",
    "model.compile(loss=loss_function, optimizer=optimizer, metrics=metrics)\n",
    "\n",
    "# if train, turn on.\n",
    "# history = model.fit(x_train, y_train, epochs=800, batch_size=50, validation_split= 0.1, verbose=0, shuffle=False)"
   ]
  },
  {
   "cell_type": "code",
   "execution_count": 93,
   "metadata": {},
   "outputs": [
    {
     "data": {
      "image/png": "[encoded data removed]",
      "text/plain": [
       "<Figure size 432x288 with 1 Axes>"
      ]
     },
     "metadata": {},
     "output_type": "display_data"
    },
    {
     "data": {
      "image/png": "[encoded data removed]",
      "text/plain": [
       "<Figure size 432x288 with 1 Axes>"
      ]
     },
     "metadata": {},
     "output_type": "display_data"
    }
   ],
   "source": [
    "plt.plot(history.history['loss'])\n",
    "plt.plot(history.history['val_loss'])\n",
    "plt.legend(['TrainLoss', 'ValLoss'])\n",
    "plt.show()\n",
    "\n",
    "plt.plot(history.history['acc'])\n",
    "plt.plot(history.history['val_acc'])\n",
    "plt.legend(['TrainAcc', 'ValAcc'])\n",
    "plt.show()"
   ]
  },
  {
   "cell_type": "code",
   "execution_count": 78,
   "metadata": {},
   "outputs": [
    {
     "data": {
      "text/plain": [
       "['loss', 'acc']"
      ]
     },
     "execution_count": 78,
     "metadata": {},
     "output_type": "execute_result"
    }
   ],
   "source": [
    "model.metrics_names"
   ]
  },
  {
   "cell_type": "code",
   "execution_count": 94,
   "metadata": {},
   "outputs": [
    {
     "name": "stdout",
     "output_type": "stream",
     "text": [
      "540/540 [==============================] - 0s 236us/step\n"
     ]
    },
    {
     "data": {
      "text/plain": [
       "[0.798587504139653, 0.5185185180770027]"
      ]
     },
     "execution_count": 94,
     "metadata": {},
     "output_type": "execute_result"
    }
   ],
   "source": [
    "# rnn epochs 500 relu activation function\n",
    "model= load_model('model/rnn_800.hdf5')\n",
    "model.evaluate(x_test,y_test)"
   ]
  }
 ],
 "metadata": {
  "kernelspec": {
   "display_name": "Python 3",
   "language": "python",
   "name": "python3"
  },
  "language_info": {
   "codemirror_mode": {
    "name": "ipython",
    "version": 3
   },
   "file_extension": ".py",
   "mimetype": "text/x-python",
   "name": "python",
   "nbconvert_exporter": "python",
   "pygments_lexer": "ipython3",
   "version": "3.7.2"
  }
 },
 "nbformat": 4,
 "nbformat_minor": 2
}
